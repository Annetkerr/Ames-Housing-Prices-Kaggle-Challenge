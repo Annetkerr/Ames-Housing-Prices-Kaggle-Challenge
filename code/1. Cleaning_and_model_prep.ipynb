{
 "cells": [
  {
   "cell_type": "markdown",
   "metadata": {},
   "source": [
    "<a id=\"section__top\"></a>\n",
    "\n",
    "# Project 2 - Ames Housing Data and Kaggle Challenge\n",
    "General Assembly DSI CC7 Project 2\n",
    "Anne Kerr - SF\n",
    "Due March 22, 2019\n",
    "## Project Introduction\n",
    "This projects has two components. One is to participate in a Kaggle competition to build a model that best predicts home prices, and the second is to use data science techniques learned to date to answer a business problem using the data. \n",
    "## Problem Statement\n",
    "What features really matter when determining the price of a home in Ames? \n",
    "## Overview of the Data \n",
    "\n",
    "Data set contains information from the Ames Assessor’s Office used in computing assessed values for individual residential properties sold in Ames, IA from 2006 to 2010.\n",
    "```\n",
    "SOURCES:  Ames, Iowa Assessor’s Office\n",
    "NAME: AmesHousing.txt\n",
    "TYPE: Population\n",
    "SIZE: 2930 observations, 82 variables\n",
    "```\n",
    "A complete overview of the data can be found here: \n",
    "__[Ames Housing Data Dictionary](http://jse.amstat.org/v19n3/decock/DataDocumentation.txt)__\n",
    "\n",
    "\n",
    "## This project contains the following notebooks\n",
    "\n",
    "-  1. Cleaning_and_model_prep.ipynb (this file) This is where I explore and clean the data, and create baseline linear regression models. \n",
    "-  2. Modeling_and_results.ipynb This is where I use LassoCV and RidgeCV to build a better model by reducing (Ridge) or eliminating(Lasso) features that aren't contributing to the model. \n",
    "\n",
    "## This notebook contains the following sections\n",
    "<br>\n",
    "-  [Loading the Data](#section__Data_Load)\n",
    "-  [Initial Data Exploration and Cleaning](#section__Initial_Data_Exploration)\n",
    "-  [Creating a Baseline Model](#section__Baseline_Model)\n",
    "-  [Additional Data Exploration and Feature Selection](#section__Additional_Data_Exploration)\n",
    "-  [Save Cleaned Data](#section__Save_Cleaned_Data)\n",
    "-  [Second Model based on feature selection](#section__Second_Model)\n",
    "\n",
    "\n",
    "\n",
    "## Overview of approach\n",
    "\n",
    "For this project I did a first pass at data cleaning, replacing null values and dropping all categorical features to create an initial model to submit to Kaggle. This was done on the entire training dataset (pre test/train split) to test the upload process and make sure I could get a file that would be accepted. That version was named pred1.csv, but the process to to produce it is not included in this notebook.\n",
    "\n",
    "Once the Kaggle submission was accepted I split the training data into a training and test set so I could repeat the linear regression have a test set with which to compare. In addition I ran several iterations of cross validation with different numbers of folds to ensure I had a good sample. I used this model to create a second Kaggle submission. (pred2.csv) This one performed worse. That may be because the first model was built on a larger dataset. This, and all subsequent steps, are included in the project notebook(s.)\n",
    "\n",
    "The baseline model included all, and only, numerical variables. I explored the data further to loo for correlations with the features and the target variable (Sale Price.) I wanted to add the categorical variables, one-hot encoded for modeling. Because there were inconsistencies in the categorical values between the training and test sets provided I had to be selective in which data I chose. Data that didn't match would have to be transformed. \n",
    "\n",
    "After further exploratin and additional data cleaning I settled on a feature set and saved the cleaned data so it could be used in other notebooks. I made the same changes (replacing null, one-hot encoding selected categorical features) to the validation file and saved it also.\n",
    "\n",
    "I then ran my new dataset through the same test/train split and linear regression process I had run earlier, and this time the score improved. I also uploaded this version (pred3.csv) to Kaggle. My Kaggle score improved with this one, too.\n",
    "\n",
    "In a separate file I explored regularization techniques to attempt to find an improved model. In summary, I did build a model with LassoCV that produced a better score, but had missed the Kaggle submission deadline, so was unable to get a Kaggle score for the final version. \n",
    "\n",
    "### Summary of conclusion and next steps\n",
    "The model did tell us which features it determined were most predictive, which begin to answer the question of what features are most important for predicting home prices. It suggests that ***while location is important, size and quality are the most important.***\n",
    "\n",
    "More could be done, however, to improve the model. I would like to do a deeper exploration the data by category, transform ranking variables differently than continous numeric variables, run polynomialfeatures to create and evaluate interaction terms, and create interaction terms manually. I would also like to build a series of pipelines to make it easy to build and test these models in batch. \n",
    "\n",
    "\n",
    "### Kaggle submission Summary\n",
    "In all I had three successful uploads. My best score was on the third version that used LassoCV.\n",
    "\n",
    "|Attempt|Description|Result/Score|\n",
    "|-------|----------|-----------|\n",
    "|First|All numeric, before scaling and test train split|38751.54021|\n",
    "|Second|All numeric, with scaling and test train split|39934.20394|\n",
    "|Third|Additional select features, using LassoCV regression|34549.44329|\n",
    "\n"
   ]
  },
  {
   "cell_type": "code",
   "execution_count": 1,
   "metadata": {},
   "outputs": [],
   "source": [
    "##Import python data science libraries"
   ]
  },
  {
   "cell_type": "code",
   "execution_count": 2,
   "metadata": {},
   "outputs": [],
   "source": [
    "from sklearn.pipeline import Pipeline\n",
    "#Importing NumPy and Pandas.\n",
    "import numpy as np\n",
    "import pandas as pd\n",
    "import pickle\n",
    "\n",
    "import sklearn.metrics as metrics\n",
    "import sklearn.linear_model as linear_model\n",
    "from sklearn.linear_model import LinearRegression\n",
    "from sklearn.model_selection import train_test_split, KFold, cross_val_score\n",
    "from sklearn.preprocessing import PolynomialFeatures, StandardScaler   #transformers\n",
    "\n",
    "from sklearn.metrics import r2_score\n",
    "\n",
    "import matplotlib.pyplot as plt\n",
    "\n",
    "import seaborn as sns\n",
    "import scipy.stats as stats\n",
    "\n",
    "%matplotlib inline"
   ]
  },
  {
   "cell_type": "code",
   "execution_count": 3,
   "metadata": {},
   "outputs": [],
   "source": [
    "##import warnings - supress future version warning messages from displaying in rendered notebook\n",
    "import warnings\n",
    "warnings.filterwarnings('ignore')"
   ]
  },
  {
   "cell_type": "markdown",
   "metadata": {},
   "source": [
    "<a id=\"section__Data_Load\"></a>\n",
    "## Data Load \n",
    "Read in the data files needed for this project.\n",
    "<br>\n",
    "-  train.csv - This is the primary dataset used for the project. It is split into both a training and a test set. The models are built on the train set and tested and evaluated on the test set. This is not to be confused with provided test.csv, which will be used for validation.\n",
    "-  test.csv -  This is the file upon which I will make my final predictions. It does not have the 'SalePrice' column. The purpose of this project is to generate a model that will predict"
   ]
  },
  {
   "cell_type": "code",
   "execution_count": 4,
   "metadata": {},
   "outputs": [],
   "source": [
    "# ## Read training file into pandas \n",
    "df = pd.read_csv('../datasets/train.csv')\n",
    "# ## Read in test data\n",
    "dftest = pd.read_csv('../datasets/test.csv')"
   ]
  },
  {
   "cell_type": "markdown",
   "metadata": {},
   "source": [
    "<a id=\"section__Initial_Data_Exploration\"></a>\n",
    "\n",
    "## Initial Data Exploration and Cleaning\n",
    "\n",
    "There are two datasets. The train.csv dataset contains all the housing features to explore, including the sales price. The test.csv dataset is included for validation purposes. Models built using train.csv can be tested with test csv to see how closely the predictions match prices on unseen data.\n",
    "\n",
    "Recall the expected shape of the dataset is <br>\n",
    "SIZE: 2930 observations, 82 variables\n",
    "\n",
    "[back to top](#section__top)"
   ]
  },
  {
   "cell_type": "code",
   "execution_count": 5,
   "metadata": {},
   "outputs": [
    {
     "data": {
      "text/plain": [
       "(2051, 81)"
      ]
     },
     "execution_count": 5,
     "metadata": {},
     "output_type": "execute_result"
    }
   ],
   "source": [
    "df.shape"
   ]
  },
  {
   "cell_type": "code",
   "execution_count": 6,
   "metadata": {},
   "outputs": [
    {
     "data": {
      "text/plain": [
       "(879, 80)"
      ]
     },
     "execution_count": 6,
     "metadata": {},
     "output_type": "execute_result"
    }
   ],
   "source": [
    "dftest.shape"
   ]
  },
  {
   "cell_type": "markdown",
   "metadata": {},
   "source": [
    "The 2930 rows in the Ames dataset have been pre-split for this project. The training dataset to use for modeling and exploration has 2930 rows and al 81 columns. The dataset to be used for validation has the remaining 879 rows, and only 80 columns (sale price removed.)"
   ]
  },
  {
   "cell_type": "markdown",
   "metadata": {},
   "source": [
    "Take a quick look at the data by displayig the first and last five rows of the trainng dataset."
   ]
  },
  {
   "cell_type": "code",
   "execution_count": 7,
   "metadata": {},
   "outputs": [
    {
     "data": {
      "text/html": [
       "<div>\n",
       "<style scoped>\n",
       "    .dataframe tbody tr th:only-of-type {\n",
       "        vertical-align: middle;\n",
       "    }\n",
       "\n",
       "    .dataframe tbody tr th {\n",
       "        vertical-align: top;\n",
       "    }\n",
       "\n",
       "    .dataframe thead th {\n",
       "        text-align: right;\n",
       "    }\n",
       "</style>\n",
       "<table border=\"1\" class=\"dataframe\">\n",
       "  <thead>\n",
       "    <tr style=\"text-align: right;\">\n",
       "      <th></th>\n",
       "      <th>Id</th>\n",
       "      <th>PID</th>\n",
       "      <th>MS SubClass</th>\n",
       "      <th>MS Zoning</th>\n",
       "      <th>Lot Frontage</th>\n",
       "      <th>Lot Area</th>\n",
       "      <th>Street</th>\n",
       "      <th>Alley</th>\n",
       "      <th>Lot Shape</th>\n",
       "      <th>Land Contour</th>\n",
       "      <th>...</th>\n",
       "      <th>Screen Porch</th>\n",
       "      <th>Pool Area</th>\n",
       "      <th>Pool QC</th>\n",
       "      <th>Fence</th>\n",
       "      <th>Misc Feature</th>\n",
       "      <th>Misc Val</th>\n",
       "      <th>Mo Sold</th>\n",
       "      <th>Yr Sold</th>\n",
       "      <th>Sale Type</th>\n",
       "      <th>SalePrice</th>\n",
       "    </tr>\n",
       "  </thead>\n",
       "  <tbody>\n",
       "    <tr>\n",
       "      <th>0</th>\n",
       "      <td>109</td>\n",
       "      <td>533352170</td>\n",
       "      <td>60</td>\n",
       "      <td>RL</td>\n",
       "      <td>NaN</td>\n",
       "      <td>13517</td>\n",
       "      <td>Pave</td>\n",
       "      <td>NaN</td>\n",
       "      <td>IR1</td>\n",
       "      <td>Lvl</td>\n",
       "      <td>...</td>\n",
       "      <td>0</td>\n",
       "      <td>0</td>\n",
       "      <td>NaN</td>\n",
       "      <td>NaN</td>\n",
       "      <td>NaN</td>\n",
       "      <td>0</td>\n",
       "      <td>3</td>\n",
       "      <td>2010</td>\n",
       "      <td>WD</td>\n",
       "      <td>130500</td>\n",
       "    </tr>\n",
       "    <tr>\n",
       "      <th>1</th>\n",
       "      <td>544</td>\n",
       "      <td>531379050</td>\n",
       "      <td>60</td>\n",
       "      <td>RL</td>\n",
       "      <td>43.0</td>\n",
       "      <td>11492</td>\n",
       "      <td>Pave</td>\n",
       "      <td>NaN</td>\n",
       "      <td>IR1</td>\n",
       "      <td>Lvl</td>\n",
       "      <td>...</td>\n",
       "      <td>0</td>\n",
       "      <td>0</td>\n",
       "      <td>NaN</td>\n",
       "      <td>NaN</td>\n",
       "      <td>NaN</td>\n",
       "      <td>0</td>\n",
       "      <td>4</td>\n",
       "      <td>2009</td>\n",
       "      <td>WD</td>\n",
       "      <td>220000</td>\n",
       "    </tr>\n",
       "    <tr>\n",
       "      <th>2</th>\n",
       "      <td>153</td>\n",
       "      <td>535304180</td>\n",
       "      <td>20</td>\n",
       "      <td>RL</td>\n",
       "      <td>68.0</td>\n",
       "      <td>7922</td>\n",
       "      <td>Pave</td>\n",
       "      <td>NaN</td>\n",
       "      <td>Reg</td>\n",
       "      <td>Lvl</td>\n",
       "      <td>...</td>\n",
       "      <td>0</td>\n",
       "      <td>0</td>\n",
       "      <td>NaN</td>\n",
       "      <td>NaN</td>\n",
       "      <td>NaN</td>\n",
       "      <td>0</td>\n",
       "      <td>1</td>\n",
       "      <td>2010</td>\n",
       "      <td>WD</td>\n",
       "      <td>109000</td>\n",
       "    </tr>\n",
       "    <tr>\n",
       "      <th>3</th>\n",
       "      <td>318</td>\n",
       "      <td>916386060</td>\n",
       "      <td>60</td>\n",
       "      <td>RL</td>\n",
       "      <td>73.0</td>\n",
       "      <td>9802</td>\n",
       "      <td>Pave</td>\n",
       "      <td>NaN</td>\n",
       "      <td>Reg</td>\n",
       "      <td>Lvl</td>\n",
       "      <td>...</td>\n",
       "      <td>0</td>\n",
       "      <td>0</td>\n",
       "      <td>NaN</td>\n",
       "      <td>NaN</td>\n",
       "      <td>NaN</td>\n",
       "      <td>0</td>\n",
       "      <td>4</td>\n",
       "      <td>2010</td>\n",
       "      <td>WD</td>\n",
       "      <td>174000</td>\n",
       "    </tr>\n",
       "    <tr>\n",
       "      <th>4</th>\n",
       "      <td>255</td>\n",
       "      <td>906425045</td>\n",
       "      <td>50</td>\n",
       "      <td>RL</td>\n",
       "      <td>82.0</td>\n",
       "      <td>14235</td>\n",
       "      <td>Pave</td>\n",
       "      <td>NaN</td>\n",
       "      <td>IR1</td>\n",
       "      <td>Lvl</td>\n",
       "      <td>...</td>\n",
       "      <td>0</td>\n",
       "      <td>0</td>\n",
       "      <td>NaN</td>\n",
       "      <td>NaN</td>\n",
       "      <td>NaN</td>\n",
       "      <td>0</td>\n",
       "      <td>3</td>\n",
       "      <td>2010</td>\n",
       "      <td>WD</td>\n",
       "      <td>138500</td>\n",
       "    </tr>\n",
       "  </tbody>\n",
       "</table>\n",
       "<p>5 rows × 81 columns</p>\n",
       "</div>"
      ],
      "text/plain": [
       "    Id        PID  MS SubClass MS Zoning  Lot Frontage  Lot Area Street Alley  \\\n",
       "0  109  533352170           60        RL           NaN     13517   Pave   NaN   \n",
       "1  544  531379050           60        RL          43.0     11492   Pave   NaN   \n",
       "2  153  535304180           20        RL          68.0      7922   Pave   NaN   \n",
       "3  318  916386060           60        RL          73.0      9802   Pave   NaN   \n",
       "4  255  906425045           50        RL          82.0     14235   Pave   NaN   \n",
       "\n",
       "  Lot Shape Land Contour  ... Screen Porch Pool Area Pool QC Fence  \\\n",
       "0       IR1          Lvl  ...            0         0     NaN   NaN   \n",
       "1       IR1          Lvl  ...            0         0     NaN   NaN   \n",
       "2       Reg          Lvl  ...            0         0     NaN   NaN   \n",
       "3       Reg          Lvl  ...            0         0     NaN   NaN   \n",
       "4       IR1          Lvl  ...            0         0     NaN   NaN   \n",
       "\n",
       "  Misc Feature Misc Val Mo Sold Yr Sold  Sale Type  SalePrice  \n",
       "0          NaN        0       3    2010        WD      130500  \n",
       "1          NaN        0       4    2009        WD      220000  \n",
       "2          NaN        0       1    2010        WD      109000  \n",
       "3          NaN        0       4    2010        WD      174000  \n",
       "4          NaN        0       3    2010        WD      138500  \n",
       "\n",
       "[5 rows x 81 columns]"
      ]
     },
     "execution_count": 7,
     "metadata": {},
     "output_type": "execute_result"
    }
   ],
   "source": [
    "df.head()"
   ]
  },
  {
   "cell_type": "code",
   "execution_count": 8,
   "metadata": {},
   "outputs": [
    {
     "data": {
      "text/html": [
       "<div>\n",
       "<style scoped>\n",
       "    .dataframe tbody tr th:only-of-type {\n",
       "        vertical-align: middle;\n",
       "    }\n",
       "\n",
       "    .dataframe tbody tr th {\n",
       "        vertical-align: top;\n",
       "    }\n",
       "\n",
       "    .dataframe thead th {\n",
       "        text-align: right;\n",
       "    }\n",
       "</style>\n",
       "<table border=\"1\" class=\"dataframe\">\n",
       "  <thead>\n",
       "    <tr style=\"text-align: right;\">\n",
       "      <th></th>\n",
       "      <th>Id</th>\n",
       "      <th>PID</th>\n",
       "      <th>MS SubClass</th>\n",
       "      <th>MS Zoning</th>\n",
       "      <th>Lot Frontage</th>\n",
       "      <th>Lot Area</th>\n",
       "      <th>Street</th>\n",
       "      <th>Alley</th>\n",
       "      <th>Lot Shape</th>\n",
       "      <th>Land Contour</th>\n",
       "      <th>...</th>\n",
       "      <th>Screen Porch</th>\n",
       "      <th>Pool Area</th>\n",
       "      <th>Pool QC</th>\n",
       "      <th>Fence</th>\n",
       "      <th>Misc Feature</th>\n",
       "      <th>Misc Val</th>\n",
       "      <th>Mo Sold</th>\n",
       "      <th>Yr Sold</th>\n",
       "      <th>Sale Type</th>\n",
       "      <th>SalePrice</th>\n",
       "    </tr>\n",
       "  </thead>\n",
       "  <tbody>\n",
       "    <tr>\n",
       "      <th>2046</th>\n",
       "      <td>1587</td>\n",
       "      <td>921126030</td>\n",
       "      <td>20</td>\n",
       "      <td>RL</td>\n",
       "      <td>79.0</td>\n",
       "      <td>11449</td>\n",
       "      <td>Pave</td>\n",
       "      <td>NaN</td>\n",
       "      <td>IR1</td>\n",
       "      <td>HLS</td>\n",
       "      <td>...</td>\n",
       "      <td>0</td>\n",
       "      <td>0</td>\n",
       "      <td>NaN</td>\n",
       "      <td>NaN</td>\n",
       "      <td>NaN</td>\n",
       "      <td>0</td>\n",
       "      <td>1</td>\n",
       "      <td>2008</td>\n",
       "      <td>WD</td>\n",
       "      <td>298751</td>\n",
       "    </tr>\n",
       "    <tr>\n",
       "      <th>2047</th>\n",
       "      <td>785</td>\n",
       "      <td>905377130</td>\n",
       "      <td>30</td>\n",
       "      <td>RL</td>\n",
       "      <td>NaN</td>\n",
       "      <td>12342</td>\n",
       "      <td>Pave</td>\n",
       "      <td>NaN</td>\n",
       "      <td>IR1</td>\n",
       "      <td>Lvl</td>\n",
       "      <td>...</td>\n",
       "      <td>0</td>\n",
       "      <td>0</td>\n",
       "      <td>NaN</td>\n",
       "      <td>NaN</td>\n",
       "      <td>NaN</td>\n",
       "      <td>0</td>\n",
       "      <td>3</td>\n",
       "      <td>2009</td>\n",
       "      <td>WD</td>\n",
       "      <td>82500</td>\n",
       "    </tr>\n",
       "    <tr>\n",
       "      <th>2048</th>\n",
       "      <td>916</td>\n",
       "      <td>909253010</td>\n",
       "      <td>50</td>\n",
       "      <td>RL</td>\n",
       "      <td>57.0</td>\n",
       "      <td>7558</td>\n",
       "      <td>Pave</td>\n",
       "      <td>NaN</td>\n",
       "      <td>Reg</td>\n",
       "      <td>Bnk</td>\n",
       "      <td>...</td>\n",
       "      <td>0</td>\n",
       "      <td>0</td>\n",
       "      <td>NaN</td>\n",
       "      <td>NaN</td>\n",
       "      <td>NaN</td>\n",
       "      <td>0</td>\n",
       "      <td>3</td>\n",
       "      <td>2009</td>\n",
       "      <td>WD</td>\n",
       "      <td>177000</td>\n",
       "    </tr>\n",
       "    <tr>\n",
       "      <th>2049</th>\n",
       "      <td>639</td>\n",
       "      <td>535179160</td>\n",
       "      <td>20</td>\n",
       "      <td>RL</td>\n",
       "      <td>80.0</td>\n",
       "      <td>10400</td>\n",
       "      <td>Pave</td>\n",
       "      <td>NaN</td>\n",
       "      <td>Reg</td>\n",
       "      <td>Lvl</td>\n",
       "      <td>...</td>\n",
       "      <td>0</td>\n",
       "      <td>0</td>\n",
       "      <td>NaN</td>\n",
       "      <td>NaN</td>\n",
       "      <td>NaN</td>\n",
       "      <td>0</td>\n",
       "      <td>11</td>\n",
       "      <td>2009</td>\n",
       "      <td>WD</td>\n",
       "      <td>144000</td>\n",
       "    </tr>\n",
       "    <tr>\n",
       "      <th>2050</th>\n",
       "      <td>10</td>\n",
       "      <td>527162130</td>\n",
       "      <td>60</td>\n",
       "      <td>RL</td>\n",
       "      <td>60.0</td>\n",
       "      <td>7500</td>\n",
       "      <td>Pave</td>\n",
       "      <td>NaN</td>\n",
       "      <td>Reg</td>\n",
       "      <td>Lvl</td>\n",
       "      <td>...</td>\n",
       "      <td>0</td>\n",
       "      <td>0</td>\n",
       "      <td>NaN</td>\n",
       "      <td>NaN</td>\n",
       "      <td>NaN</td>\n",
       "      <td>0</td>\n",
       "      <td>6</td>\n",
       "      <td>2010</td>\n",
       "      <td>WD</td>\n",
       "      <td>189000</td>\n",
       "    </tr>\n",
       "  </tbody>\n",
       "</table>\n",
       "<p>5 rows × 81 columns</p>\n",
       "</div>"
      ],
      "text/plain": [
       "        Id        PID  MS SubClass MS Zoning  Lot Frontage  Lot Area Street  \\\n",
       "2046  1587  921126030           20        RL          79.0     11449   Pave   \n",
       "2047   785  905377130           30        RL           NaN     12342   Pave   \n",
       "2048   916  909253010           50        RL          57.0      7558   Pave   \n",
       "2049   639  535179160           20        RL          80.0     10400   Pave   \n",
       "2050    10  527162130           60        RL          60.0      7500   Pave   \n",
       "\n",
       "     Alley Lot Shape Land Contour  ... Screen Porch Pool Area Pool QC Fence  \\\n",
       "2046   NaN       IR1          HLS  ...            0         0     NaN   NaN   \n",
       "2047   NaN       IR1          Lvl  ...            0         0     NaN   NaN   \n",
       "2048   NaN       Reg          Bnk  ...            0         0     NaN   NaN   \n",
       "2049   NaN       Reg          Lvl  ...            0         0     NaN   NaN   \n",
       "2050   NaN       Reg          Lvl  ...            0         0     NaN   NaN   \n",
       "\n",
       "     Misc Feature Misc Val Mo Sold Yr Sold  Sale Type  SalePrice  \n",
       "2046          NaN        0       1    2008        WD      298751  \n",
       "2047          NaN        0       3    2009        WD       82500  \n",
       "2048          NaN        0       3    2009        WD      177000  \n",
       "2049          NaN        0      11    2009        WD      144000  \n",
       "2050          NaN        0       6    2010        WD      189000  \n",
       "\n",
       "[5 rows x 81 columns]"
      ]
     },
     "execution_count": 8,
     "metadata": {},
     "output_type": "execute_result"
    }
   ],
   "source": [
    "df.tail()"
   ]
  },
  {
   "cell_type": "markdown",
   "metadata": {},
   "source": [
    "Some things to note:\n",
    "-  Data Types: Some categorical some continuous\n",
    "-  Missing values: NaN observed in columns of both data types\n",
    "-  Range of data: Years seem to be between 2018 and 2010. \n",
    "-  Organization: The data is not sorted by year sold or sale price. No sort order is apparent.\n",
    "<br>\n"
   ]
  },
  {
   "cell_type": "markdown",
   "metadata": {},
   "source": [
    "##### Missing values:"
   ]
  },
  {
   "cell_type": "code",
   "execution_count": 9,
   "metadata": {},
   "outputs": [
    {
     "data": {
      "text/plain": [
       "9822"
      ]
     },
     "execution_count": 9,
     "metadata": {},
     "output_type": "execute_result"
    }
   ],
   "source": [
    "df.isnull().sum().sort_values(ascending=False).sum()"
   ]
  },
  {
   "cell_type": "code",
   "execution_count": 10,
   "metadata": {},
   "outputs": [
    {
     "data": {
      "text/plain": [
       "4175"
      ]
     },
     "execution_count": 10,
     "metadata": {},
     "output_type": "execute_result"
    }
   ],
   "source": [
    "dftest.isnull().sum().sort_values(ascending=False).sum()"
   ]
  },
  {
   "cell_type": "markdown",
   "metadata": {},
   "source": [
    "Both files have quite a few missing values. Anything done to replace missing values in the training dataset will also have to be done on the validation file. <BR>\n",
    "    "
   ]
  },
  {
   "cell_type": "markdown",
   "metadata": {},
   "source": [
    "For the data science project, I need a better understanding of the nature of the missing values before deciding how to handle them. I will come back to this after further exploration. "
   ]
  },
  {
   "cell_type": "markdown",
   "metadata": {},
   "source": [
    "<a id=\"section__Baseline_Model\"></a>\n",
    "## First Pass - Baseline Model \n",
    "Replace all null values and create a baseline standard linear regression model from all numeric features in the dataset to get an inital baseline.\n",
    "<br>In the next pass I will examine the dataset to see if some of the values can be imputed rather than simply replaced with NA or zero.<br><br>\n",
    "[back to top](#section__top)"
   ]
  },
  {
   "cell_type": "code",
   "execution_count": 11,
   "metadata": {},
   "outputs": [
    {
     "name": "stdout",
     "output_type": "stream",
     "text": [
      "Nulls in training dataset: 0\n",
      "Nulls in validation dataset: 0\n"
     ]
    }
   ],
   "source": [
    "def replace_nulls(df):\n",
    "    cols = list(df.select_dtypes(include=['O']).columns)\n",
    "    df[cols] = df[cols].fillna(value='NA')    \n",
    "    cols = list(df.select_dtypes(include=['int64', 'float64']).columns)\n",
    "    df[cols] = df[cols].fillna(value=0)    \n",
    "    \n",
    "replace_nulls(df)  #training dataset\n",
    "replace_nulls(dftest)  #validation dataset\n",
    "\n",
    "#confirm that it has been done\n",
    "print(f'Nulls in training dataset: {df.isnull().sum().sort_values(ascending=False).sum()}')\n",
    "print(f'Nulls in validation dataset: {dftest.isnull().sum().sort_values(ascending=False).sum()}')\n"
   ]
  },
  {
   "cell_type": "markdown",
   "metadata": {},
   "source": [
    "Now that the nulls have been removed from both datasets, setup X and y variables."
   ]
  },
  {
   "cell_type": "code",
   "execution_count": 12,
   "metadata": {},
   "outputs": [],
   "source": [
    "def set_features_all_num(df,final=False):\n",
    "    features = [col for col in df._get_numeric_data().columns if col !='SalePrice']\n",
    "    X = df[features]\n",
    "    #Exclude'Id' or 'PID' columns, not numeric in nature for the train set    \n",
    "    if not final:\n",
    "        X = X.drop(columns=['Id','PID'])\n",
    "    return(X)\n",
    "    "
   ]
  },
  {
   "cell_type": "code",
   "execution_count": 13,
   "metadata": {},
   "outputs": [
    {
     "name": "stdout",
     "output_type": "stream",
     "text": [
      "\n",
      "Review the shapes.\n",
      "    X.shape=(2051, 36)\n",
      "    X_validate.shape=(879, 36)\n",
      "    y.shape=(2051,)\n",
      "\n"
     ]
    }
   ],
   "source": [
    "#Set features for first pass based on all numeric columns. Do this for both datasets\n",
    "X = set_features_all_num(df)\n",
    "y = df['SalePrice']\n",
    "X_validate = set_features_all_num(dftest)\n",
    "print(f'\\nReview the shapes.\\n    X.shape={X.shape}')\n",
    "print(f'    X_validate.shape={X_validate.shape}')\n",
    "print(f'    y.shape={y.shape}\\n')\n",
    "      "
   ]
  },
  {
   "cell_type": "markdown",
   "metadata": {},
   "source": [
    "I are looking to see that X and y have the same number of rows, and that X and X_validate have the same number of columns.  \n",
    "\n",
    "Next I define a function to run our linear regression. The function will make it easy to try multiple attempts."
   ]
  },
  {
   "cell_type": "markdown",
   "metadata": {},
   "source": [
    "<a id=\"section_lr_model_2\"></a>\n",
    "### Try Liner Regression \n",
    "Define a function to call linear regression with different feature sets \n",
    "<br>With each new feature set, use this to get a baseline"
   ]
  },
  {
   "cell_type": "code",
   "execution_count": 14,
   "metadata": {},
   "outputs": [],
   "source": [
    "##Perform a standard linear regression\n",
    "##inputs: X (feature df) and y (target df)\n",
    "##outputs: model, intercept, cooefficient(s), r2 score\n",
    "\n",
    "def try_mlr(X,y):\n",
    "    #Instantiate the model\n",
    "    lr = LinearRegression() \n",
    "    #Fit to the training data\n",
    "    lr.fit(X, y)\n",
    "    #predict and score\n",
    "    pred = lr.predict(X)      \n",
    "    r2 = r2_score(y, pred)\n",
    "    #Evaluate the intercept beta0 calculated by the model\n",
    "    lr.intercept_\n",
    "    #Evaluate the coefficients \n",
    "    lr.coef_\n",
    "    return(lr, lr.intercept_, lr.coef_, r2)"
   ]
  },
  {
   "cell_type": "code",
   "execution_count": 15,
   "metadata": {},
   "outputs": [],
   "source": [
    "# Create train/test splits.\n",
    "X_train, X_test, y_train, y_test = train_test_split(X,y, \n",
    "                                test_size=0.5, random_state=42)\n",
    "\n",
    "# Note: this performed better on unscaled data\n",
    "# #Standardize the data so all features can be evaluated on the same scale.\n",
    "# ss = StandardScaler()\n",
    "# X_scaled = ss.fit_transform(X_train)\n",
    "\n",
    "#Look at top rows of the scaled values to make sure they have been normalized\n",
    "#X_scaled[:,:5]"
   ]
  },
  {
   "cell_type": "code",
   "execution_count": 16,
   "metadata": {},
   "outputs": [
    {
     "name": "stdout",
     "output_type": "stream",
     "text": [
      "mlr returns r2 score of 0.8228359317657945\n",
      "mlr returns beta0 intercept -1441628.317308746\n"
     ]
    }
   ],
   "source": [
    "#Peform the regression on the training split\n",
    "mlr, beta0, beta1, r2score = try_mlr(X_train,y_train)\n",
    "print('mlr returns r2 score of {}'.format(r2score))\n",
    "print('mlr returns beta0 intercept {}'.format(beta0))\n",
    "#print('mlr returns beta1 coefficients {}'.format(beta1))"
   ]
  },
  {
   "cell_type": "code",
   "execution_count": 17,
   "metadata": {},
   "outputs": [
    {
     "name": "stdout",
     "output_type": "stream",
     "text": [
      "R2 Score for Train Split 0.8228359317657945\n",
      "R2 Score for Test Split 0.8431504207327102\n"
     ]
    }
   ],
   "source": [
    "##Score on the test split\n",
    "print('R2 Score for Train Split {}'.format( mlr.score(X_train, y_train) ))\n",
    "print('R2 Score for Test Split {}'.format( mlr.score(X_test, y_test) ))"
   ]
  },
  {
   "cell_type": "markdown",
   "metadata": {},
   "source": [
    "### Summary of baseline linear regression with numeric features.\n",
    "\n",
    "R2 of the test is slightly better than that of the training set. Is this reproducable? \n",
    "Let's try a scorig it with cross validation to test different training folds."
   ]
  },
  {
   "cell_type": "code",
   "execution_count": 18,
   "metadata": {},
   "outputs": [],
   "source": [
    "##This can be made more pythonic if time permits\n",
    "##Create a function to repeatedly call cross_val\n",
    "def cross_val_mean(model,X,y,n):\n",
    "    return(cross_val_score(model,X,y,cv=n).mean())"
   ]
  },
  {
   "cell_type": "code",
   "execution_count": 19,
   "metadata": {},
   "outputs": [
    {
     "name": "stdout",
     "output_type": "stream",
     "text": [
      "Cross validation means on training data:\n",
      "  from 3 to 30, by step 3\n",
      "[0.8047290077626879, 0.7973680223081834, 0.7965363137038531, 0.7930515226363201, 0.7986445127688859, 0.7897034999581556]\n",
      "Cross validation means on test data:\n",
      "  from 3 to 30, by step 3\n",
      "[0.8782468861739726, 0.876657647868197, 0.874670820313817, 0.8775561002183466, 0.8745418709296995, 0.8707640226444505]\n"
     ]
    }
   ],
   "source": [
    "#Set up a way to call cross_val_score trying differnet parameters\n",
    "cross_val_mean_list_train = []\n",
    "cross_val_mean_list_test = []\n",
    "\n",
    "start = 3\n",
    "end = 31\n",
    "step = 3\n",
    "\n",
    "for i in range(3,20,3):\n",
    "    cross_val_mean_list_train.append(cross_val_mean(mlr, X, y, i))\n",
    "    cross_val_mean_list_test.append(cross_val_mean(mlr, X_test, y_test, i))\n",
    "\n",
    "print('Cross validation means on training data:')\n",
    "print('  from {} to {}, by step {}'.format(start,end-1,step)) \n",
    "print(cross_val_mean_list_train)\n",
    "print('Cross validation means on test data:')\n",
    "print('  from {} to {}, by step {}'.format(start,end-1,step)) \n",
    "print(cross_val_mean_list_test)"
   ]
  },
  {
   "cell_type": "markdown",
   "metadata": {},
   "source": [
    "The cross validation scores seem to re-enforce the model resulst. \n",
    "Let's try the model on the validation data and submit to Kaggle and see what happens."
   ]
  },
  {
   "cell_type": "code",
   "execution_count": 20,
   "metadata": {},
   "outputs": [],
   "source": [
    "#Predict home prices for the validation dataset\n",
    "kaggle_preds = mlr.predict(X_validate)"
   ]
  },
  {
   "cell_type": "markdown",
   "metadata": {},
   "source": [
    "Check that I have the right number of predictions. There should be 879, one for each row in the validation file."
   ]
  },
  {
   "cell_type": "code",
   "execution_count": 21,
   "metadata": {},
   "outputs": [
    {
     "name": "stdout",
     "output_type": "stream",
     "text": [
      "879\n"
     ]
    }
   ],
   "source": [
    "print(len(kaggle_preds))"
   ]
  },
  {
   "cell_type": "markdown",
   "metadata": {},
   "source": [
    "Now construct a dataframe in the format needed for the Kaggle submission. \n",
    "\n",
    "|Id|SalePrice|\n",
    "|---|---|\n",
    "|233|34234|\n",
    "\n"
   ]
  },
  {
   "cell_type": "code",
   "execution_count": 22,
   "metadata": {},
   "outputs": [
    {
     "data": {
      "text/html": [
       "<div>\n",
       "<style scoped>\n",
       "    .dataframe tbody tr th:only-of-type {\n",
       "        vertical-align: middle;\n",
       "    }\n",
       "\n",
       "    .dataframe tbody tr th {\n",
       "        vertical-align: top;\n",
       "    }\n",
       "\n",
       "    .dataframe thead th {\n",
       "        text-align: right;\n",
       "    }\n",
       "</style>\n",
       "<table border=\"1\" class=\"dataframe\">\n",
       "  <thead>\n",
       "    <tr style=\"text-align: right;\">\n",
       "      <th></th>\n",
       "      <th>Id</th>\n",
       "      <th>SalePrice</th>\n",
       "    </tr>\n",
       "  </thead>\n",
       "  <tbody>\n",
       "    <tr>\n",
       "      <th>0</th>\n",
       "      <td>2658</td>\n",
       "      <td>113494.333023</td>\n",
       "    </tr>\n",
       "    <tr>\n",
       "      <th>1</th>\n",
       "      <td>2718</td>\n",
       "      <td>142235.130936</td>\n",
       "    </tr>\n",
       "    <tr>\n",
       "      <th>2</th>\n",
       "      <td>2414</td>\n",
       "      <td>224473.790118</td>\n",
       "    </tr>\n",
       "    <tr>\n",
       "      <th>3</th>\n",
       "      <td>1989</td>\n",
       "      <td>118307.942408</td>\n",
       "    </tr>\n",
       "    <tr>\n",
       "      <th>4</th>\n",
       "      <td>625</td>\n",
       "      <td>214492.703976</td>\n",
       "    </tr>\n",
       "  </tbody>\n",
       "</table>\n",
       "</div>"
      ],
      "text/plain": [
       "     Id      SalePrice\n",
       "0  2658  113494.333023\n",
       "1  2718  142235.130936\n",
       "2  2414  224473.790118\n",
       "3  1989  118307.942408\n",
       "4   625  214492.703976"
      ]
     },
     "execution_count": 22,
     "metadata": {},
     "output_type": "execute_result"
    }
   ],
   "source": [
    "test_ids = pd.DataFrame(dftest.iloc[:,0])\n",
    "preds = pd.DataFrame(kaggle_preds)\n",
    "\n",
    "newdf = pd.concat([test_ids, preds], axis = 1)\n",
    "newdf.rename(columns={0: 'SalePrice'}, inplace=True)\n",
    "newdf.head()"
   ]
  },
  {
   "cell_type": "code",
   "execution_count": 23,
   "metadata": {},
   "outputs": [],
   "source": [
    "#save file to upload\n",
    "newdf.to_csv('../data/pred2.csv', index=False)"
   ]
  },
  {
   "cell_type": "code",
   "execution_count": 24,
   "metadata": {},
   "outputs": [],
   "source": [
    "mlr_model_numfeat_pkl = open ('../models/lr_numfeat.csv', 'wb')\n",
    "pickle.dump(mlr, mlr_model_numfeat_pkl)\n",
    "mlr_model_numfeat_pkl.close()"
   ]
  },
  {
   "cell_type": "markdown",
   "metadata": {},
   "source": [
    "<a id=\"section__Additional_Data_Exploration\"></a>\n",
    "### Additional Data Exploration and Feature Selection\n",
    "In this section I will take a closer look at the data to determine which features to include in the model.\n",
    "<br><br>\n",
    "[back to top](#section__top)"
   ]
  },
  {
   "cell_type": "markdown",
   "metadata": {},
   "source": [
    "I would first like to take a look at the summary statistics of the numerical columns to get a sense for the range and spread of the data."
   ]
  },
  {
   "cell_type": "code",
   "execution_count": 25,
   "metadata": {},
   "outputs": [
    {
     "data": {
      "text/html": [
       "<div>\n",
       "<style scoped>\n",
       "    .dataframe tbody tr th:only-of-type {\n",
       "        vertical-align: middle;\n",
       "    }\n",
       "\n",
       "    .dataframe tbody tr th {\n",
       "        vertical-align: top;\n",
       "    }\n",
       "\n",
       "    .dataframe thead th {\n",
       "        text-align: right;\n",
       "    }\n",
       "</style>\n",
       "<table border=\"1\" class=\"dataframe\">\n",
       "  <thead>\n",
       "    <tr style=\"text-align: right;\">\n",
       "      <th></th>\n",
       "      <th>count</th>\n",
       "      <th>mean</th>\n",
       "      <th>std</th>\n",
       "      <th>min</th>\n",
       "      <th>25%</th>\n",
       "      <th>50%</th>\n",
       "      <th>75%</th>\n",
       "      <th>max</th>\n",
       "    </tr>\n",
       "  </thead>\n",
       "  <tbody>\n",
       "    <tr>\n",
       "      <th>Id</th>\n",
       "      <td>2051.0</td>\n",
       "      <td>1.474034e+03</td>\n",
       "      <td>8.439808e+02</td>\n",
       "      <td>1.0</td>\n",
       "      <td>753.5</td>\n",
       "      <td>1486.0</td>\n",
       "      <td>2198.0</td>\n",
       "      <td>2930.0</td>\n",
       "    </tr>\n",
       "    <tr>\n",
       "      <th>PID</th>\n",
       "      <td>2051.0</td>\n",
       "      <td>7.135900e+08</td>\n",
       "      <td>1.886918e+08</td>\n",
       "      <td>526301100.0</td>\n",
       "      <td>528458140.0</td>\n",
       "      <td>535453200.0</td>\n",
       "      <td>907180080.0</td>\n",
       "      <td>924152030.0</td>\n",
       "    </tr>\n",
       "    <tr>\n",
       "      <th>MS SubClass</th>\n",
       "      <td>2051.0</td>\n",
       "      <td>5.700878e+01</td>\n",
       "      <td>4.282422e+01</td>\n",
       "      <td>20.0</td>\n",
       "      <td>20.0</td>\n",
       "      <td>50.0</td>\n",
       "      <td>70.0</td>\n",
       "      <td>190.0</td>\n",
       "    </tr>\n",
       "    <tr>\n",
       "      <th>Lot Frontage</th>\n",
       "      <td>2051.0</td>\n",
       "      <td>5.794442e+01</td>\n",
       "      <td>3.313733e+01</td>\n",
       "      <td>0.0</td>\n",
       "      <td>43.5</td>\n",
       "      <td>63.0</td>\n",
       "      <td>78.0</td>\n",
       "      <td>313.0</td>\n",
       "    </tr>\n",
       "    <tr>\n",
       "      <th>Lot Area</th>\n",
       "      <td>2051.0</td>\n",
       "      <td>1.006521e+04</td>\n",
       "      <td>6.742489e+03</td>\n",
       "      <td>1300.0</td>\n",
       "      <td>7500.0</td>\n",
       "      <td>9430.0</td>\n",
       "      <td>11513.5</td>\n",
       "      <td>159000.0</td>\n",
       "    </tr>\n",
       "    <tr>\n",
       "      <th>Overall Qual</th>\n",
       "      <td>2051.0</td>\n",
       "      <td>6.112140e+00</td>\n",
       "      <td>1.426271e+00</td>\n",
       "      <td>1.0</td>\n",
       "      <td>5.0</td>\n",
       "      <td>6.0</td>\n",
       "      <td>7.0</td>\n",
       "      <td>10.0</td>\n",
       "    </tr>\n",
       "    <tr>\n",
       "      <th>Overall Cond</th>\n",
       "      <td>2051.0</td>\n",
       "      <td>5.562165e+00</td>\n",
       "      <td>1.104497e+00</td>\n",
       "      <td>1.0</td>\n",
       "      <td>5.0</td>\n",
       "      <td>5.0</td>\n",
       "      <td>6.0</td>\n",
       "      <td>9.0</td>\n",
       "    </tr>\n",
       "    <tr>\n",
       "      <th>Year Built</th>\n",
       "      <td>2051.0</td>\n",
       "      <td>1.971709e+03</td>\n",
       "      <td>3.017789e+01</td>\n",
       "      <td>1872.0</td>\n",
       "      <td>1953.5</td>\n",
       "      <td>1974.0</td>\n",
       "      <td>2001.0</td>\n",
       "      <td>2010.0</td>\n",
       "    </tr>\n",
       "    <tr>\n",
       "      <th>Year Remod/Add</th>\n",
       "      <td>2051.0</td>\n",
       "      <td>1.984190e+03</td>\n",
       "      <td>2.103625e+01</td>\n",
       "      <td>1950.0</td>\n",
       "      <td>1964.5</td>\n",
       "      <td>1993.0</td>\n",
       "      <td>2004.0</td>\n",
       "      <td>2010.0</td>\n",
       "    </tr>\n",
       "    <tr>\n",
       "      <th>Mas Vnr Area</th>\n",
       "      <td>2051.0</td>\n",
       "      <td>9.862652e+01</td>\n",
       "      <td>1.743247e+02</td>\n",
       "      <td>0.0</td>\n",
       "      <td>0.0</td>\n",
       "      <td>0.0</td>\n",
       "      <td>159.0</td>\n",
       "      <td>1600.0</td>\n",
       "    </tr>\n",
       "    <tr>\n",
       "      <th>BsmtFin SF 1</th>\n",
       "      <td>2051.0</td>\n",
       "      <td>4.420848e+02</td>\n",
       "      <td>4.611950e+02</td>\n",
       "      <td>0.0</td>\n",
       "      <td>0.0</td>\n",
       "      <td>368.0</td>\n",
       "      <td>733.5</td>\n",
       "      <td>5644.0</td>\n",
       "    </tr>\n",
       "    <tr>\n",
       "      <th>BsmtFin SF 2</th>\n",
       "      <td>2051.0</td>\n",
       "      <td>4.793564e+01</td>\n",
       "      <td>1.649641e+02</td>\n",
       "      <td>0.0</td>\n",
       "      <td>0.0</td>\n",
       "      <td>0.0</td>\n",
       "      <td>0.0</td>\n",
       "      <td>1474.0</td>\n",
       "    </tr>\n",
       "    <tr>\n",
       "      <th>Bsmt Unf SF</th>\n",
       "      <td>2051.0</td>\n",
       "      <td>5.674515e+02</td>\n",
       "      <td>4.450228e+02</td>\n",
       "      <td>0.0</td>\n",
       "      <td>220.0</td>\n",
       "      <td>474.0</td>\n",
       "      <td>811.0</td>\n",
       "      <td>2336.0</td>\n",
       "    </tr>\n",
       "    <tr>\n",
       "      <th>Total Bsmt SF</th>\n",
       "      <td>2051.0</td>\n",
       "      <td>1.057472e+03</td>\n",
       "      <td>4.499080e+02</td>\n",
       "      <td>0.0</td>\n",
       "      <td>793.0</td>\n",
       "      <td>994.0</td>\n",
       "      <td>1318.5</td>\n",
       "      <td>6110.0</td>\n",
       "    </tr>\n",
       "    <tr>\n",
       "      <th>1st Flr SF</th>\n",
       "      <td>2051.0</td>\n",
       "      <td>1.164488e+03</td>\n",
       "      <td>3.964469e+02</td>\n",
       "      <td>334.0</td>\n",
       "      <td>879.5</td>\n",
       "      <td>1093.0</td>\n",
       "      <td>1405.0</td>\n",
       "      <td>5095.0</td>\n",
       "    </tr>\n",
       "    <tr>\n",
       "      <th>2nd Flr SF</th>\n",
       "      <td>2051.0</td>\n",
       "      <td>3.293291e+02</td>\n",
       "      <td>4.256710e+02</td>\n",
       "      <td>0.0</td>\n",
       "      <td>0.0</td>\n",
       "      <td>0.0</td>\n",
       "      <td>692.5</td>\n",
       "      <td>1862.0</td>\n",
       "    </tr>\n",
       "    <tr>\n",
       "      <th>Low Qual Fin SF</th>\n",
       "      <td>2051.0</td>\n",
       "      <td>5.512921e+00</td>\n",
       "      <td>5.106887e+01</td>\n",
       "      <td>0.0</td>\n",
       "      <td>0.0</td>\n",
       "      <td>0.0</td>\n",
       "      <td>0.0</td>\n",
       "      <td>1064.0</td>\n",
       "    </tr>\n",
       "    <tr>\n",
       "      <th>Gr Liv Area</th>\n",
       "      <td>2051.0</td>\n",
       "      <td>1.499330e+03</td>\n",
       "      <td>5.004478e+02</td>\n",
       "      <td>334.0</td>\n",
       "      <td>1129.0</td>\n",
       "      <td>1444.0</td>\n",
       "      <td>1728.5</td>\n",
       "      <td>5642.0</td>\n",
       "    </tr>\n",
       "    <tr>\n",
       "      <th>Bsmt Full Bath</th>\n",
       "      <td>2051.0</td>\n",
       "      <td>4.271087e-01</td>\n",
       "      <td>5.225887e-01</td>\n",
       "      <td>0.0</td>\n",
       "      <td>0.0</td>\n",
       "      <td>0.0</td>\n",
       "      <td>1.0</td>\n",
       "      <td>3.0</td>\n",
       "    </tr>\n",
       "    <tr>\n",
       "      <th>Bsmt Half Bath</th>\n",
       "      <td>2051.0</td>\n",
       "      <td>6.338372e-02</td>\n",
       "      <td>2.515902e-01</td>\n",
       "      <td>0.0</td>\n",
       "      <td>0.0</td>\n",
       "      <td>0.0</td>\n",
       "      <td>0.0</td>\n",
       "      <td>2.0</td>\n",
       "    </tr>\n",
       "    <tr>\n",
       "      <th>Full Bath</th>\n",
       "      <td>2051.0</td>\n",
       "      <td>1.577279e+00</td>\n",
       "      <td>5.492794e-01</td>\n",
       "      <td>0.0</td>\n",
       "      <td>1.0</td>\n",
       "      <td>2.0</td>\n",
       "      <td>2.0</td>\n",
       "      <td>4.0</td>\n",
       "    </tr>\n",
       "    <tr>\n",
       "      <th>Half Bath</th>\n",
       "      <td>2051.0</td>\n",
       "      <td>3.710385e-01</td>\n",
       "      <td>5.010427e-01</td>\n",
       "      <td>0.0</td>\n",
       "      <td>0.0</td>\n",
       "      <td>0.0</td>\n",
       "      <td>1.0</td>\n",
       "      <td>2.0</td>\n",
       "    </tr>\n",
       "    <tr>\n",
       "      <th>Bedroom AbvGr</th>\n",
       "      <td>2051.0</td>\n",
       "      <td>2.843491e+00</td>\n",
       "      <td>8.266183e-01</td>\n",
       "      <td>0.0</td>\n",
       "      <td>2.0</td>\n",
       "      <td>3.0</td>\n",
       "      <td>3.0</td>\n",
       "      <td>8.0</td>\n",
       "    </tr>\n",
       "    <tr>\n",
       "      <th>Kitchen AbvGr</th>\n",
       "      <td>2051.0</td>\n",
       "      <td>1.042906e+00</td>\n",
       "      <td>2.097900e-01</td>\n",
       "      <td>0.0</td>\n",
       "      <td>1.0</td>\n",
       "      <td>1.0</td>\n",
       "      <td>1.0</td>\n",
       "      <td>3.0</td>\n",
       "    </tr>\n",
       "    <tr>\n",
       "      <th>TotRms AbvGrd</th>\n",
       "      <td>2051.0</td>\n",
       "      <td>6.435885e+00</td>\n",
       "      <td>1.560225e+00</td>\n",
       "      <td>2.0</td>\n",
       "      <td>5.0</td>\n",
       "      <td>6.0</td>\n",
       "      <td>7.0</td>\n",
       "      <td>15.0</td>\n",
       "    </tr>\n",
       "    <tr>\n",
       "      <th>Fireplaces</th>\n",
       "      <td>2051.0</td>\n",
       "      <td>5.909313e-01</td>\n",
       "      <td>6.385163e-01</td>\n",
       "      <td>0.0</td>\n",
       "      <td>0.0</td>\n",
       "      <td>1.0</td>\n",
       "      <td>1.0</td>\n",
       "      <td>4.0</td>\n",
       "    </tr>\n",
       "    <tr>\n",
       "      <th>Garage Yr Blt</th>\n",
       "      <td>2051.0</td>\n",
       "      <td>1.868726e+03</td>\n",
       "      <td>4.541337e+02</td>\n",
       "      <td>0.0</td>\n",
       "      <td>1957.0</td>\n",
       "      <td>1978.0</td>\n",
       "      <td>2001.0</td>\n",
       "      <td>2207.0</td>\n",
       "    </tr>\n",
       "    <tr>\n",
       "      <th>Garage Cars</th>\n",
       "      <td>2051.0</td>\n",
       "      <td>1.775719e+00</td>\n",
       "      <td>7.653569e-01</td>\n",
       "      <td>0.0</td>\n",
       "      <td>1.0</td>\n",
       "      <td>2.0</td>\n",
       "      <td>2.0</td>\n",
       "      <td>5.0</td>\n",
       "    </tr>\n",
       "    <tr>\n",
       "      <th>Garage Area</th>\n",
       "      <td>2051.0</td>\n",
       "      <td>4.734408e+02</td>\n",
       "      <td>2.161351e+02</td>\n",
       "      <td>0.0</td>\n",
       "      <td>319.0</td>\n",
       "      <td>480.0</td>\n",
       "      <td>576.0</td>\n",
       "      <td>1418.0</td>\n",
       "    </tr>\n",
       "    <tr>\n",
       "      <th>Wood Deck SF</th>\n",
       "      <td>2051.0</td>\n",
       "      <td>9.383374e+01</td>\n",
       "      <td>1.285494e+02</td>\n",
       "      <td>0.0</td>\n",
       "      <td>0.0</td>\n",
       "      <td>0.0</td>\n",
       "      <td>168.0</td>\n",
       "      <td>1424.0</td>\n",
       "    </tr>\n",
       "    <tr>\n",
       "      <th>Open Porch SF</th>\n",
       "      <td>2051.0</td>\n",
       "      <td>4.755680e+01</td>\n",
       "      <td>6.674724e+01</td>\n",
       "      <td>0.0</td>\n",
       "      <td>0.0</td>\n",
       "      <td>27.0</td>\n",
       "      <td>70.0</td>\n",
       "      <td>547.0</td>\n",
       "    </tr>\n",
       "    <tr>\n",
       "      <th>Enclosed Porch</th>\n",
       "      <td>2051.0</td>\n",
       "      <td>2.257192e+01</td>\n",
       "      <td>5.984511e+01</td>\n",
       "      <td>0.0</td>\n",
       "      <td>0.0</td>\n",
       "      <td>0.0</td>\n",
       "      <td>0.0</td>\n",
       "      <td>432.0</td>\n",
       "    </tr>\n",
       "    <tr>\n",
       "      <th>3Ssn Porch</th>\n",
       "      <td>2051.0</td>\n",
       "      <td>2.591419e+00</td>\n",
       "      <td>2.522961e+01</td>\n",
       "      <td>0.0</td>\n",
       "      <td>0.0</td>\n",
       "      <td>0.0</td>\n",
       "      <td>0.0</td>\n",
       "      <td>508.0</td>\n",
       "    </tr>\n",
       "    <tr>\n",
       "      <th>Screen Porch</th>\n",
       "      <td>2051.0</td>\n",
       "      <td>1.651146e+01</td>\n",
       "      <td>5.737420e+01</td>\n",
       "      <td>0.0</td>\n",
       "      <td>0.0</td>\n",
       "      <td>0.0</td>\n",
       "      <td>0.0</td>\n",
       "      <td>490.0</td>\n",
       "    </tr>\n",
       "    <tr>\n",
       "      <th>Pool Area</th>\n",
       "      <td>2051.0</td>\n",
       "      <td>2.397855e+00</td>\n",
       "      <td>3.778257e+01</td>\n",
       "      <td>0.0</td>\n",
       "      <td>0.0</td>\n",
       "      <td>0.0</td>\n",
       "      <td>0.0</td>\n",
       "      <td>800.0</td>\n",
       "    </tr>\n",
       "    <tr>\n",
       "      <th>Misc Val</th>\n",
       "      <td>2051.0</td>\n",
       "      <td>5.157435e+01</td>\n",
       "      <td>5.733940e+02</td>\n",
       "      <td>0.0</td>\n",
       "      <td>0.0</td>\n",
       "      <td>0.0</td>\n",
       "      <td>0.0</td>\n",
       "      <td>17000.0</td>\n",
       "    </tr>\n",
       "    <tr>\n",
       "      <th>Mo Sold</th>\n",
       "      <td>2051.0</td>\n",
       "      <td>6.219893e+00</td>\n",
       "      <td>2.744736e+00</td>\n",
       "      <td>1.0</td>\n",
       "      <td>4.0</td>\n",
       "      <td>6.0</td>\n",
       "      <td>8.0</td>\n",
       "      <td>12.0</td>\n",
       "    </tr>\n",
       "    <tr>\n",
       "      <th>Yr Sold</th>\n",
       "      <td>2051.0</td>\n",
       "      <td>2.007776e+03</td>\n",
       "      <td>1.312014e+00</td>\n",
       "      <td>2006.0</td>\n",
       "      <td>2007.0</td>\n",
       "      <td>2008.0</td>\n",
       "      <td>2009.0</td>\n",
       "      <td>2010.0</td>\n",
       "    </tr>\n",
       "    <tr>\n",
       "      <th>SalePrice</th>\n",
       "      <td>2051.0</td>\n",
       "      <td>1.814697e+05</td>\n",
       "      <td>7.925866e+04</td>\n",
       "      <td>12789.0</td>\n",
       "      <td>129825.0</td>\n",
       "      <td>162500.0</td>\n",
       "      <td>214000.0</td>\n",
       "      <td>611657.0</td>\n",
       "    </tr>\n",
       "  </tbody>\n",
       "</table>\n",
       "</div>"
      ],
      "text/plain": [
       "                  count          mean           std          min          25%  \\\n",
       "Id               2051.0  1.474034e+03  8.439808e+02          1.0        753.5   \n",
       "PID              2051.0  7.135900e+08  1.886918e+08  526301100.0  528458140.0   \n",
       "MS SubClass      2051.0  5.700878e+01  4.282422e+01         20.0         20.0   \n",
       "Lot Frontage     2051.0  5.794442e+01  3.313733e+01          0.0         43.5   \n",
       "Lot Area         2051.0  1.006521e+04  6.742489e+03       1300.0       7500.0   \n",
       "Overall Qual     2051.0  6.112140e+00  1.426271e+00          1.0          5.0   \n",
       "Overall Cond     2051.0  5.562165e+00  1.104497e+00          1.0          5.0   \n",
       "Year Built       2051.0  1.971709e+03  3.017789e+01       1872.0       1953.5   \n",
       "Year Remod/Add   2051.0  1.984190e+03  2.103625e+01       1950.0       1964.5   \n",
       "Mas Vnr Area     2051.0  9.862652e+01  1.743247e+02          0.0          0.0   \n",
       "BsmtFin SF 1     2051.0  4.420848e+02  4.611950e+02          0.0          0.0   \n",
       "BsmtFin SF 2     2051.0  4.793564e+01  1.649641e+02          0.0          0.0   \n",
       "Bsmt Unf SF      2051.0  5.674515e+02  4.450228e+02          0.0        220.0   \n",
       "Total Bsmt SF    2051.0  1.057472e+03  4.499080e+02          0.0        793.0   \n",
       "1st Flr SF       2051.0  1.164488e+03  3.964469e+02        334.0        879.5   \n",
       "2nd Flr SF       2051.0  3.293291e+02  4.256710e+02          0.0          0.0   \n",
       "Low Qual Fin SF  2051.0  5.512921e+00  5.106887e+01          0.0          0.0   \n",
       "Gr Liv Area      2051.0  1.499330e+03  5.004478e+02        334.0       1129.0   \n",
       "Bsmt Full Bath   2051.0  4.271087e-01  5.225887e-01          0.0          0.0   \n",
       "Bsmt Half Bath   2051.0  6.338372e-02  2.515902e-01          0.0          0.0   \n",
       "Full Bath        2051.0  1.577279e+00  5.492794e-01          0.0          1.0   \n",
       "Half Bath        2051.0  3.710385e-01  5.010427e-01          0.0          0.0   \n",
       "Bedroom AbvGr    2051.0  2.843491e+00  8.266183e-01          0.0          2.0   \n",
       "Kitchen AbvGr    2051.0  1.042906e+00  2.097900e-01          0.0          1.0   \n",
       "TotRms AbvGrd    2051.0  6.435885e+00  1.560225e+00          2.0          5.0   \n",
       "Fireplaces       2051.0  5.909313e-01  6.385163e-01          0.0          0.0   \n",
       "Garage Yr Blt    2051.0  1.868726e+03  4.541337e+02          0.0       1957.0   \n",
       "Garage Cars      2051.0  1.775719e+00  7.653569e-01          0.0          1.0   \n",
       "Garage Area      2051.0  4.734408e+02  2.161351e+02          0.0        319.0   \n",
       "Wood Deck SF     2051.0  9.383374e+01  1.285494e+02          0.0          0.0   \n",
       "Open Porch SF    2051.0  4.755680e+01  6.674724e+01          0.0          0.0   \n",
       "Enclosed Porch   2051.0  2.257192e+01  5.984511e+01          0.0          0.0   \n",
       "3Ssn Porch       2051.0  2.591419e+00  2.522961e+01          0.0          0.0   \n",
       "Screen Porch     2051.0  1.651146e+01  5.737420e+01          0.0          0.0   \n",
       "Pool Area        2051.0  2.397855e+00  3.778257e+01          0.0          0.0   \n",
       "Misc Val         2051.0  5.157435e+01  5.733940e+02          0.0          0.0   \n",
       "Mo Sold          2051.0  6.219893e+00  2.744736e+00          1.0          4.0   \n",
       "Yr Sold          2051.0  2.007776e+03  1.312014e+00       2006.0       2007.0   \n",
       "SalePrice        2051.0  1.814697e+05  7.925866e+04      12789.0     129825.0   \n",
       "\n",
       "                         50%          75%          max  \n",
       "Id                    1486.0       2198.0       2930.0  \n",
       "PID              535453200.0  907180080.0  924152030.0  \n",
       "MS SubClass             50.0         70.0        190.0  \n",
       "Lot Frontage            63.0         78.0        313.0  \n",
       "Lot Area              9430.0      11513.5     159000.0  \n",
       "Overall Qual             6.0          7.0         10.0  \n",
       "Overall Cond             5.0          6.0          9.0  \n",
       "Year Built            1974.0       2001.0       2010.0  \n",
       "Year Remod/Add        1993.0       2004.0       2010.0  \n",
       "Mas Vnr Area             0.0        159.0       1600.0  \n",
       "BsmtFin SF 1           368.0        733.5       5644.0  \n",
       "BsmtFin SF 2             0.0          0.0       1474.0  \n",
       "Bsmt Unf SF            474.0        811.0       2336.0  \n",
       "Total Bsmt SF          994.0       1318.5       6110.0  \n",
       "1st Flr SF            1093.0       1405.0       5095.0  \n",
       "2nd Flr SF               0.0        692.5       1862.0  \n",
       "Low Qual Fin SF          0.0          0.0       1064.0  \n",
       "Gr Liv Area           1444.0       1728.5       5642.0  \n",
       "Bsmt Full Bath           0.0          1.0          3.0  \n",
       "Bsmt Half Bath           0.0          0.0          2.0  \n",
       "Full Bath                2.0          2.0          4.0  \n",
       "Half Bath                0.0          1.0          2.0  \n",
       "Bedroom AbvGr            3.0          3.0          8.0  \n",
       "Kitchen AbvGr            1.0          1.0          3.0  \n",
       "TotRms AbvGrd            6.0          7.0         15.0  \n",
       "Fireplaces               1.0          1.0          4.0  \n",
       "Garage Yr Blt         1978.0       2001.0       2207.0  \n",
       "Garage Cars              2.0          2.0          5.0  \n",
       "Garage Area            480.0        576.0       1418.0  \n",
       "Wood Deck SF             0.0        168.0       1424.0  \n",
       "Open Porch SF           27.0         70.0        547.0  \n",
       "Enclosed Porch           0.0          0.0        432.0  \n",
       "3Ssn Porch               0.0          0.0        508.0  \n",
       "Screen Porch             0.0          0.0        490.0  \n",
       "Pool Area                0.0          0.0        800.0  \n",
       "Misc Val                 0.0          0.0      17000.0  \n",
       "Mo Sold                  6.0          8.0         12.0  \n",
       "Yr Sold               2008.0       2009.0       2010.0  \n",
       "SalePrice           162500.0     214000.0     611657.0  "
      ]
     },
     "execution_count": 25,
     "metadata": {},
     "output_type": "execute_result"
    }
   ],
   "source": [
    "df.describe().T"
   ]
  },
  {
   "cell_type": "markdown",
   "metadata": {},
   "source": [
    "Some observations: It appears the range in years covered in the dataset are actually between 2006 and 2010. The minimum value of many features is zero, which indicates the lack of presence of that feature rather than missing information. E.g. Pool Area = 0 means the house does not have a pool. "
   ]
  },
  {
   "cell_type": "markdown",
   "metadata": {},
   "source": [
    "Since there are so many features, it may be worth doing some up exploration operations on different object types, so I am setting up some variables so I can reference them separately. "
   ]
  },
  {
   "cell_type": "code",
   "execution_count": 26,
   "metadata": {},
   "outputs": [],
   "source": [
    "cols_o = list(df.select_dtypes(include=['O']).columns)\n",
    "cols_i = list(  set(df.select_dtypes(include=['int64']).columns) - {'Id','PID'}  )\n",
    "cols_f = list(df.select_dtypes(include=['float64']).columns)"
   ]
  },
  {
   "cell_type": "markdown",
   "metadata": {},
   "source": [
    "### Distributions\n",
    "I want to look at the distribtion of some of the key features. I'll start with the target, SalePrice."
   ]
  },
  {
   "cell_type": "code",
   "execution_count": 27,
   "metadata": {},
   "outputs": [
    {
     "data": {
      "text/plain": [
       "Text(0.5, 1.0, 'Spread of Home Prices')"
      ]
     },
     "execution_count": 27,
     "metadata": {},
     "output_type": "execute_result"
    },
    {
     "data": {
      "image/png": "[encoded data removed]",
      "text/plain": [
       "<Figure size 1152x432 with 2 Axes>"
      ]
     },
     "metadata": {
      "needs_background": "light"
     },
     "output_type": "display_data"
    }
   ],
   "source": [
    "figure, ax = plt.subplots(nrows=1, ncols=2, figsize=(16, 6))\n",
    "\n",
    "df.hist('SalePrice', ax=ax[0])\n",
    "plt.title('Distribution of Home Prices')\n",
    "df.boxplot('SalePrice' )\n",
    "plt.title('Spread of Home Prices')\n"
   ]
  },
  {
   "cell_type": "markdown",
   "metadata": {},
   "source": [
    "Notice that the target variable, Sale Price, is not normally distributed. This means the errors will not be normally distributed either. I will need to standardize the values in the  training data in order to create a good model."
   ]
  },
  {
   "cell_type": "code",
   "execution_count": 28,
   "metadata": {},
   "outputs": [
    {
     "data": {
      "text/plain": [
       "count      2051.000000\n",
       "mean     181469.701609\n",
       "std       79258.659352\n",
       "min       12789.000000\n",
       "25%      129825.000000\n",
       "50%      162500.000000\n",
       "75%      214000.000000\n",
       "max      611657.000000\n",
       "Name: SalePrice, dtype: float64"
      ]
     },
     "execution_count": 28,
     "metadata": {},
     "output_type": "execute_result"
    }
   ],
   "source": [
    "df.SalePrice.describe()"
   ]
  },
  {
   "cell_type": "code",
   "execution_count": 29,
   "metadata": {},
   "outputs": [
    {
     "name": "stdout",
     "output_type": "stream",
     "text": [
      "Median SalesPrice: 162500.0\n"
     ]
    }
   ],
   "source": [
    "print(f\"Median SalesPrice: {df.loc[:,'SalePrice'].median()}\")"
   ]
  },
  {
   "cell_type": "markdown",
   "metadata": {},
   "source": [
    "The range of SalePrice is from around \\$12K at the low end to just over \\$600K at the high end. The mean is around \\$181K, while the median is \\$162K."
   ]
  },
  {
   "cell_type": "markdown",
   "metadata": {},
   "source": [
    "Select a subset of features to explore with a scatter plot"
   ]
  },
  {
   "cell_type": "code",
   "execution_count": 30,
   "metadata": {},
   "outputs": [],
   "source": [
    "feature_list = ['Yr Sold', 'House Style', 'Condition 1', 'Bldg Type',  'BsmtFin Type 1', 'Garage Cond']\n",
    "\n",
    "title_list = ['Year Sold', 'House Style', 'Condition', 'Building Type',  'Finished Basement', 'Garage Condition']"
   ]
  },
  {
   "cell_type": "code",
   "execution_count": 31,
   "metadata": {},
   "outputs": [
    {
     "data": {
      "image/png": "[encoded data removed]",
      "text/plain": [
       "<Figure size 864x864 with 6 Axes>"
      ]
     },
     "metadata": {
      "needs_background": "light"
     },
     "output_type": "display_data"
    }
   ],
   "source": [
    "def subplot_scatter(dataframe, list_of_columns, list_of_titles, list_of_xlabels):\n",
    "    nrows = int(np.ceil(len(list_of_columns)/2)) # Makes sure you have enough rows\n",
    "    fig, ax = plt.subplots(nrows=nrows, ncols=2, figsize=(12,12))  \n",
    "    ax = ax.ravel() # Ravel turns a matrix into a vector, which is easier to iterate\n",
    "    for i, column in enumerate(list_of_columns): # Gives us an index value to get into all our lists\n",
    "        ax[i].scatter(dataframe[column], dataframe['SalePrice']) # feel free to add more settings\n",
    "        ax[i].set_title(list_of_titles[i])\n",
    "    plt.tight_layout() #tip from Mark to keep x labels from overlapping the titles below\n",
    "subplot_scatter(df, feature_list, title_list, feature_list)"
   ]
  },
  {
   "cell_type": "markdown",
   "metadata": {},
   "source": [
    "## Correlation between the features and the Sale Price\n",
    "I can look at a heatmat to visualize this all on one diagram."
   ]
  },
  {
   "cell_type": "code",
   "execution_count": 32,
   "metadata": {},
   "outputs": [],
   "source": [
    "bfdf = df.drop(columns=['Id','PID'])  #temp df used to plot without including the id columns\n",
    "numeric_features = [col for col in bfdf._get_numeric_data().columns if col !='SalePrice']\n"
   ]
  },
  {
   "cell_type": "code",
   "execution_count": 33,
   "metadata": {},
   "outputs": [
    {
     "data": {
      "text/plain": [
       "<matplotlib.axes._subplots.AxesSubplot at 0x1a31fe1908>"
      ]
     },
     "execution_count": 33,
     "metadata": {},
     "output_type": "execute_result"
    },
    {
     "data": {
      "image/png": "[encoded data removed]",
      "text/plain": [
       "<Figure size 576x1080 with 2 Axes>"
      ]
     },
     "metadata": {
      "needs_background": "light"
     },
     "output_type": "display_data"
    }
   ],
   "source": [
    "cw = bfdf.corrwith(bfdf['SalePrice'])\n",
    "\n",
    "high_mask = cw[0] > .4\n",
    "type(high_mask)\n",
    "cw.describe()\n",
    "\n",
    "cw = pd.DataFrame(cw)\n",
    "high_mask = cw[0] > .001\n",
    "low_mask = cw[0] < -.001\n",
    "cw = cw[high_mask | low_mask]\n",
    "\n",
    "plt.figure(figsize=(8, 15))\n",
    "sns.heatmap(cw.sort_values(0), annot=True, cmap='coolwarm')"
   ]
  },
  {
   "cell_type": "markdown",
   "metadata": {},
   "source": [
    "The heatmap shows a high positiove correlation with overall quality and above ground living, which is not surprising. What is surprising is a slight negative correlation with an enclosed porch and an above grade kitchen. "
   ]
  },
  {
   "cell_type": "markdown",
   "metadata": {},
   "source": [
    "I then looked at pairplots for each of the features, by data type, as opart of my analyzis. Rather than include them all, I did a few scatter plots to show those that did have a relationship with sales price. I left the code below so the lines could be uncommented and examined later. For the final project, though I am only going to incllude a fewl scatter plots of those features that do have a correlation. "
   ]
  },
  {
   "cell_type": "code",
   "execution_count": 34,
   "metadata": {},
   "outputs": [],
   "source": [
    "#These can be uncommented to look at pairplots by data type if desired\n",
    "#sns.pairplot(bfdf, y_vars=numeric_features, x_vars='SalePrice');\n",
    "#sns.pairplot(bfdf, y_vars=cols_i, x_vars='SalePrice');\n",
    "#sns.pairplot(bfdf, y_vars=cols_f, x_vars='SalePrice');\n",
    "#sns.pairplot(bfdf, y_vars=cols_o, x_vars='SalePrice');"
   ]
  },
  {
   "cell_type": "code",
   "execution_count": 35,
   "metadata": {},
   "outputs": [
    {
     "data": {
      "text/plain": [
       "<matplotlib.collections.PathCollection at 0x1a321fcba8>"
      ]
     },
     "execution_count": 35,
     "metadata": {},
     "output_type": "execute_result"
    },
    {
     "data": {
      "image/png": "[encoded data removed]",
      "text/plain": [
       "<Figure size 432x288 with 1 Axes>"
      ]
     },
     "metadata": {
      "needs_background": "light"
     },
     "output_type": "display_data"
    }
   ],
   "source": [
    "plt.scatter(df['SalePrice'], df['1st Flr SF'])"
   ]
  },
  {
   "cell_type": "code",
   "execution_count": 36,
   "metadata": {},
   "outputs": [
    {
     "data": {
      "text/plain": [
       "<matplotlib.collections.PathCollection at 0x1a322ceb00>"
      ]
     },
     "execution_count": 36,
     "metadata": {},
     "output_type": "execute_result"
    },
    {
     "data": {
      "image/png": "[encoded data removed]",
      "text/plain": [
       "<Figure size 432x288 with 1 Axes>"
      ]
     },
     "metadata": {
      "needs_background": "light"
     },
     "output_type": "display_data"
    }
   ],
   "source": [
    "plt.scatter(df['SalePrice'], df['Gr Liv Area'])"
   ]
  },
  {
   "cell_type": "code",
   "execution_count": 37,
   "metadata": {},
   "outputs": [
    {
     "data": {
      "text/plain": [
       "<matplotlib.collections.PathCollection at 0x1a32388a90>"
      ]
     },
     "execution_count": 37,
     "metadata": {},
     "output_type": "execute_result"
    },
    {
     "data": {
      "image/png": "[encoded data removed]",
      "text/plain": [
       "<Figure size 432x288 with 1 Axes>"
      ]
     },
     "metadata": {
      "needs_background": "light"
     },
     "output_type": "display_data"
    }
   ],
   "source": [
    "plt.scatter(df['SalePrice'], df['Neighborhood'])"
   ]
  },
  {
   "cell_type": "code",
   "execution_count": 38,
   "metadata": {},
   "outputs": [
    {
     "data": {
      "text/plain": [
       "<matplotlib.collections.PathCollection at 0x1a323f5cc0>"
      ]
     },
     "execution_count": 38,
     "metadata": {},
     "output_type": "execute_result"
    },
    {
     "data": {
      "image/png": "[encoded data removed]",
      "text/plain": [
       "<Figure size 432x288 with 1 Axes>"
      ]
     },
     "metadata": {
      "needs_background": "light"
     },
     "output_type": "display_data"
    }
   ],
   "source": [
    "plt.scatter(df['SalePrice'], df['MS SubClass'])"
   ]
  },
  {
   "cell_type": "code",
   "execution_count": 39,
   "metadata": {},
   "outputs": [
    {
     "data": {
      "text/plain": [
       "<matplotlib.collections.PathCollection at 0x1a325b3630>"
      ]
     },
     "execution_count": 39,
     "metadata": {},
     "output_type": "execute_result"
    },
    {
     "data": {
      "image/png": "[encoded data removed]",
      "text/plain": [
       "<Figure size 432x288 with 1 Axes>"
      ]
     },
     "metadata": {
      "needs_background": "light"
     },
     "output_type": "display_data"
    }
   ],
   "source": [
    "plt.scatter(df['SalePrice'], df['MS Zoning'])"
   ]
  },
  {
   "cell_type": "markdown",
   "metadata": {},
   "source": [
    "After looking at the heatmap and scolling through the individual scatter plots, I noticed few pattern emerged.  \n",
    "\n",
    "Correlations:\n",
    "-  Quality - A number of features related to the quality of the home seemed to be correlated with sales price. As these correlations seemed to\n",
    "-  Size - The size of the home seems to have an impact on price. It is represented in multiple features, such as overall living area, number of bedrooms on each floor, etc. \n",
    "-  Location - Neighborhood and zoning \n",
    "<br>\n",
    "Strongest Predictors:\n",
    "-  Overall Quality and Gr Living Area\n",
    "\n",
    "It seems that many numeric columns may be collinear. I chose to leave them in my model, though, to see how they would be handled by the regularization step. "
   ]
  },
  {
   "cell_type": "markdown",
   "metadata": {},
   "source": [
    "#### Categorical Data\n",
    "I tired adding  all categorical (oject types) data back into the dataset, using one-hot encoding to turn them into numerical data that could be modeled."
   ]
  },
  {
   "cell_type": "code",
   "execution_count": 40,
   "metadata": {},
   "outputs": [
    {
     "data": {
      "text/html": [
       "<div>\n",
       "<style scoped>\n",
       "    .dataframe tbody tr th:only-of-type {\n",
       "        vertical-align: middle;\n",
       "    }\n",
       "\n",
       "    .dataframe tbody tr th {\n",
       "        vertical-align: top;\n",
       "    }\n",
       "\n",
       "    .dataframe thead th {\n",
       "        text-align: right;\n",
       "    }\n",
       "</style>\n",
       "<table border=\"1\" class=\"dataframe\">\n",
       "  <thead>\n",
       "    <tr style=\"text-align: right;\">\n",
       "      <th></th>\n",
       "      <th>Id</th>\n",
       "      <th>PID</th>\n",
       "      <th>MS SubClass</th>\n",
       "      <th>Lot Frontage</th>\n",
       "      <th>Lot Area</th>\n",
       "      <th>Overall Qual</th>\n",
       "      <th>Overall Cond</th>\n",
       "      <th>Year Built</th>\n",
       "      <th>Year Remod/Add</th>\n",
       "      <th>Mas Vnr Area</th>\n",
       "      <th>...</th>\n",
       "      <th>Misc Feature_Shed</th>\n",
       "      <th>Misc Feature_TenC</th>\n",
       "      <th>Sale Type_CWD</th>\n",
       "      <th>Sale Type_Con</th>\n",
       "      <th>Sale Type_ConLD</th>\n",
       "      <th>Sale Type_ConLI</th>\n",
       "      <th>Sale Type_ConLw</th>\n",
       "      <th>Sale Type_New</th>\n",
       "      <th>Sale Type_Oth</th>\n",
       "      <th>Sale Type_WD</th>\n",
       "    </tr>\n",
       "  </thead>\n",
       "  <tbody>\n",
       "    <tr>\n",
       "      <th>0</th>\n",
       "      <td>109</td>\n",
       "      <td>533352170</td>\n",
       "      <td>60</td>\n",
       "      <td>0.0</td>\n",
       "      <td>13517</td>\n",
       "      <td>6</td>\n",
       "      <td>8</td>\n",
       "      <td>1976</td>\n",
       "      <td>2005</td>\n",
       "      <td>289.0</td>\n",
       "      <td>...</td>\n",
       "      <td>0</td>\n",
       "      <td>0</td>\n",
       "      <td>0</td>\n",
       "      <td>0</td>\n",
       "      <td>0</td>\n",
       "      <td>0</td>\n",
       "      <td>0</td>\n",
       "      <td>0</td>\n",
       "      <td>0</td>\n",
       "      <td>1</td>\n",
       "    </tr>\n",
       "    <tr>\n",
       "      <th>1</th>\n",
       "      <td>544</td>\n",
       "      <td>531379050</td>\n",
       "      <td>60</td>\n",
       "      <td>43.0</td>\n",
       "      <td>11492</td>\n",
       "      <td>7</td>\n",
       "      <td>5</td>\n",
       "      <td>1996</td>\n",
       "      <td>1997</td>\n",
       "      <td>132.0</td>\n",
       "      <td>...</td>\n",
       "      <td>0</td>\n",
       "      <td>0</td>\n",
       "      <td>0</td>\n",
       "      <td>0</td>\n",
       "      <td>0</td>\n",
       "      <td>0</td>\n",
       "      <td>0</td>\n",
       "      <td>0</td>\n",
       "      <td>0</td>\n",
       "      <td>1</td>\n",
       "    </tr>\n",
       "    <tr>\n",
       "      <th>2</th>\n",
       "      <td>153</td>\n",
       "      <td>535304180</td>\n",
       "      <td>20</td>\n",
       "      <td>68.0</td>\n",
       "      <td>7922</td>\n",
       "      <td>5</td>\n",
       "      <td>7</td>\n",
       "      <td>1953</td>\n",
       "      <td>2007</td>\n",
       "      <td>0.0</td>\n",
       "      <td>...</td>\n",
       "      <td>0</td>\n",
       "      <td>0</td>\n",
       "      <td>0</td>\n",
       "      <td>0</td>\n",
       "      <td>0</td>\n",
       "      <td>0</td>\n",
       "      <td>0</td>\n",
       "      <td>0</td>\n",
       "      <td>0</td>\n",
       "      <td>1</td>\n",
       "    </tr>\n",
       "    <tr>\n",
       "      <th>3</th>\n",
       "      <td>318</td>\n",
       "      <td>916386060</td>\n",
       "      <td>60</td>\n",
       "      <td>73.0</td>\n",
       "      <td>9802</td>\n",
       "      <td>5</td>\n",
       "      <td>5</td>\n",
       "      <td>2006</td>\n",
       "      <td>2007</td>\n",
       "      <td>0.0</td>\n",
       "      <td>...</td>\n",
       "      <td>0</td>\n",
       "      <td>0</td>\n",
       "      <td>0</td>\n",
       "      <td>0</td>\n",
       "      <td>0</td>\n",
       "      <td>0</td>\n",
       "      <td>0</td>\n",
       "      <td>0</td>\n",
       "      <td>0</td>\n",
       "      <td>1</td>\n",
       "    </tr>\n",
       "    <tr>\n",
       "      <th>4</th>\n",
       "      <td>255</td>\n",
       "      <td>906425045</td>\n",
       "      <td>50</td>\n",
       "      <td>82.0</td>\n",
       "      <td>14235</td>\n",
       "      <td>6</td>\n",
       "      <td>8</td>\n",
       "      <td>1900</td>\n",
       "      <td>1993</td>\n",
       "      <td>0.0</td>\n",
       "      <td>...</td>\n",
       "      <td>0</td>\n",
       "      <td>0</td>\n",
       "      <td>0</td>\n",
       "      <td>0</td>\n",
       "      <td>0</td>\n",
       "      <td>0</td>\n",
       "      <td>0</td>\n",
       "      <td>0</td>\n",
       "      <td>0</td>\n",
       "      <td>1</td>\n",
       "    </tr>\n",
       "  </tbody>\n",
       "</table>\n",
       "<p>5 rows × 265 columns</p>\n",
       "</div>"
      ],
      "text/plain": [
       "    Id        PID  MS SubClass  Lot Frontage  Lot Area  Overall Qual  \\\n",
       "0  109  533352170           60           0.0     13517             6   \n",
       "1  544  531379050           60          43.0     11492             7   \n",
       "2  153  535304180           20          68.0      7922             5   \n",
       "3  318  916386060           60          73.0      9802             5   \n",
       "4  255  906425045           50          82.0     14235             6   \n",
       "\n",
       "   Overall Cond  Year Built  Year Remod/Add  Mas Vnr Area  ...  \\\n",
       "0             8        1976            2005         289.0  ...   \n",
       "1             5        1996            1997         132.0  ...   \n",
       "2             7        1953            2007           0.0  ...   \n",
       "3             5        2006            2007           0.0  ...   \n",
       "4             8        1900            1993           0.0  ...   \n",
       "\n",
       "   Misc Feature_Shed  Misc Feature_TenC  Sale Type_CWD  Sale Type_Con  \\\n",
       "0                  0                  0              0              0   \n",
       "1                  0                  0              0              0   \n",
       "2                  0                  0              0              0   \n",
       "3                  0                  0              0              0   \n",
       "4                  0                  0              0              0   \n",
       "\n",
       "   Sale Type_ConLD  Sale Type_ConLI  Sale Type_ConLw  Sale Type_New  \\\n",
       "0                0                0                0              0   \n",
       "1                0                0                0              0   \n",
       "2                0                0                0              0   \n",
       "3                0                0                0              0   \n",
       "4                0                0                0              0   \n",
       "\n",
       "   Sale Type_Oth  Sale Type_WD   \n",
       "0              0              1  \n",
       "1              0              1  \n",
       "2              0              1  \n",
       "3              0              1  \n",
       "4              0              1  \n",
       "\n",
       "[5 rows x 265 columns]"
      ]
     },
     "execution_count": 40,
     "metadata": {},
     "output_type": "execute_result"
    }
   ],
   "source": [
    "fdf = pd.get_dummies(df, drop_first=True)\n",
    "fdf.head()"
   ]
  },
  {
   "cell_type": "code",
   "execution_count": 41,
   "metadata": {},
   "outputs": [
    {
     "data": {
      "text/html": [
       "<div>\n",
       "<style scoped>\n",
       "    .dataframe tbody tr th:only-of-type {\n",
       "        vertical-align: middle;\n",
       "    }\n",
       "\n",
       "    .dataframe tbody tr th {\n",
       "        vertical-align: top;\n",
       "    }\n",
       "\n",
       "    .dataframe thead th {\n",
       "        text-align: right;\n",
       "    }\n",
       "</style>\n",
       "<table border=\"1\" class=\"dataframe\">\n",
       "  <thead>\n",
       "    <tr style=\"text-align: right;\">\n",
       "      <th></th>\n",
       "      <th>Id</th>\n",
       "      <th>PID</th>\n",
       "      <th>MS SubClass</th>\n",
       "      <th>Lot Frontage</th>\n",
       "      <th>Lot Area</th>\n",
       "      <th>Overall Qual</th>\n",
       "      <th>Overall Cond</th>\n",
       "      <th>Year Built</th>\n",
       "      <th>Year Remod/Add</th>\n",
       "      <th>Mas Vnr Area</th>\n",
       "      <th>...</th>\n",
       "      <th>Misc Feature_Shed</th>\n",
       "      <th>Sale Type_CWD</th>\n",
       "      <th>Sale Type_Con</th>\n",
       "      <th>Sale Type_ConLD</th>\n",
       "      <th>Sale Type_ConLI</th>\n",
       "      <th>Sale Type_ConLw</th>\n",
       "      <th>Sale Type_New</th>\n",
       "      <th>Sale Type_Oth</th>\n",
       "      <th>Sale Type_VWD</th>\n",
       "      <th>Sale Type_WD</th>\n",
       "    </tr>\n",
       "  </thead>\n",
       "  <tbody>\n",
       "    <tr>\n",
       "      <th>0</th>\n",
       "      <td>2658</td>\n",
       "      <td>902301120</td>\n",
       "      <td>190</td>\n",
       "      <td>69.0</td>\n",
       "      <td>9142</td>\n",
       "      <td>6</td>\n",
       "      <td>8</td>\n",
       "      <td>1910</td>\n",
       "      <td>1950</td>\n",
       "      <td>0.0</td>\n",
       "      <td>...</td>\n",
       "      <td>0</td>\n",
       "      <td>0</td>\n",
       "      <td>0</td>\n",
       "      <td>0</td>\n",
       "      <td>0</td>\n",
       "      <td>0</td>\n",
       "      <td>0</td>\n",
       "      <td>0</td>\n",
       "      <td>0</td>\n",
       "      <td>1</td>\n",
       "    </tr>\n",
       "    <tr>\n",
       "      <th>1</th>\n",
       "      <td>2718</td>\n",
       "      <td>905108090</td>\n",
       "      <td>90</td>\n",
       "      <td>0.0</td>\n",
       "      <td>9662</td>\n",
       "      <td>5</td>\n",
       "      <td>4</td>\n",
       "      <td>1977</td>\n",
       "      <td>1977</td>\n",
       "      <td>0.0</td>\n",
       "      <td>...</td>\n",
       "      <td>0</td>\n",
       "      <td>0</td>\n",
       "      <td>0</td>\n",
       "      <td>0</td>\n",
       "      <td>0</td>\n",
       "      <td>0</td>\n",
       "      <td>0</td>\n",
       "      <td>0</td>\n",
       "      <td>0</td>\n",
       "      <td>1</td>\n",
       "    </tr>\n",
       "    <tr>\n",
       "      <th>2</th>\n",
       "      <td>2414</td>\n",
       "      <td>528218130</td>\n",
       "      <td>60</td>\n",
       "      <td>58.0</td>\n",
       "      <td>17104</td>\n",
       "      <td>7</td>\n",
       "      <td>5</td>\n",
       "      <td>2006</td>\n",
       "      <td>2006</td>\n",
       "      <td>0.0</td>\n",
       "      <td>...</td>\n",
       "      <td>0</td>\n",
       "      <td>0</td>\n",
       "      <td>0</td>\n",
       "      <td>0</td>\n",
       "      <td>0</td>\n",
       "      <td>0</td>\n",
       "      <td>1</td>\n",
       "      <td>0</td>\n",
       "      <td>0</td>\n",
       "      <td>0</td>\n",
       "    </tr>\n",
       "    <tr>\n",
       "      <th>3</th>\n",
       "      <td>1989</td>\n",
       "      <td>902207150</td>\n",
       "      <td>30</td>\n",
       "      <td>60.0</td>\n",
       "      <td>8520</td>\n",
       "      <td>5</td>\n",
       "      <td>6</td>\n",
       "      <td>1923</td>\n",
       "      <td>2006</td>\n",
       "      <td>0.0</td>\n",
       "      <td>...</td>\n",
       "      <td>0</td>\n",
       "      <td>0</td>\n",
       "      <td>0</td>\n",
       "      <td>0</td>\n",
       "      <td>0</td>\n",
       "      <td>0</td>\n",
       "      <td>0</td>\n",
       "      <td>0</td>\n",
       "      <td>0</td>\n",
       "      <td>1</td>\n",
       "    </tr>\n",
       "    <tr>\n",
       "      <th>4</th>\n",
       "      <td>625</td>\n",
       "      <td>535105100</td>\n",
       "      <td>20</td>\n",
       "      <td>0.0</td>\n",
       "      <td>9500</td>\n",
       "      <td>6</td>\n",
       "      <td>5</td>\n",
       "      <td>1963</td>\n",
       "      <td>1963</td>\n",
       "      <td>247.0</td>\n",
       "      <td>...</td>\n",
       "      <td>0</td>\n",
       "      <td>0</td>\n",
       "      <td>0</td>\n",
       "      <td>0</td>\n",
       "      <td>0</td>\n",
       "      <td>0</td>\n",
       "      <td>0</td>\n",
       "      <td>0</td>\n",
       "      <td>0</td>\n",
       "      <td>1</td>\n",
       "    </tr>\n",
       "  </tbody>\n",
       "</table>\n",
       "<p>5 rows × 247 columns</p>\n",
       "</div>"
      ],
      "text/plain": [
       "     Id        PID  MS SubClass  Lot Frontage  Lot Area  Overall Qual  \\\n",
       "0  2658  902301120          190          69.0      9142             6   \n",
       "1  2718  905108090           90           0.0      9662             5   \n",
       "2  2414  528218130           60          58.0     17104             7   \n",
       "3  1989  902207150           30          60.0      8520             5   \n",
       "4   625  535105100           20           0.0      9500             6   \n",
       "\n",
       "   Overall Cond  Year Built  Year Remod/Add  Mas Vnr Area  ...  \\\n",
       "0             8        1910            1950           0.0  ...   \n",
       "1             4        1977            1977           0.0  ...   \n",
       "2             5        2006            2006           0.0  ...   \n",
       "3             6        1923            2006           0.0  ...   \n",
       "4             5        1963            1963         247.0  ...   \n",
       "\n",
       "   Misc Feature_Shed  Sale Type_CWD  Sale Type_Con  Sale Type_ConLD  \\\n",
       "0                  0              0              0                0   \n",
       "1                  0              0              0                0   \n",
       "2                  0              0              0                0   \n",
       "3                  0              0              0                0   \n",
       "4                  0              0              0                0   \n",
       "\n",
       "   Sale Type_ConLI  Sale Type_ConLw  Sale Type_New  Sale Type_Oth  \\\n",
       "0                0                0              0              0   \n",
       "1                0                0              0              0   \n",
       "2                0                0              1              0   \n",
       "3                0                0              0              0   \n",
       "4                0                0              0              0   \n",
       "\n",
       "   Sale Type_VWD  Sale Type_WD   \n",
       "0              0              1  \n",
       "1              0              1  \n",
       "2              0              0  \n",
       "3              0              1  \n",
       "4              0              1  \n",
       "\n",
       "[5 rows x 247 columns]"
      ]
     },
     "execution_count": 41,
     "metadata": {},
     "output_type": "execute_result"
    }
   ],
   "source": [
    "tdf = pd.get_dummies(dftest, drop_first=True)\n",
    "tdf.head()"
   ]
  },
  {
   "cell_type": "code",
   "execution_count": 42,
   "metadata": {},
   "outputs": [],
   "source": [
    "X = fdf.drop(columns=['SalePrice'])\n",
    "X.head()\n",
    "\n",
    "y=df['SalePrice']\n",
    "\n",
    "X_validate = pd.get_dummies(dftest, drop_first=True)"
   ]
  },
  {
   "cell_type": "code",
   "execution_count": 43,
   "metadata": {},
   "outputs": [
    {
     "data": {
      "text/html": [
       "<div>\n",
       "<style scoped>\n",
       "    .dataframe tbody tr th:only-of-type {\n",
       "        vertical-align: middle;\n",
       "    }\n",
       "\n",
       "    .dataframe tbody tr th {\n",
       "        vertical-align: top;\n",
       "    }\n",
       "\n",
       "    .dataframe thead th {\n",
       "        text-align: right;\n",
       "    }\n",
       "</style>\n",
       "<table border=\"1\" class=\"dataframe\">\n",
       "  <thead>\n",
       "    <tr style=\"text-align: right;\">\n",
       "      <th></th>\n",
       "      <th>Id</th>\n",
       "      <th>PID</th>\n",
       "      <th>MS SubClass</th>\n",
       "      <th>Lot Frontage</th>\n",
       "      <th>Lot Area</th>\n",
       "      <th>Overall Qual</th>\n",
       "      <th>Overall Cond</th>\n",
       "      <th>Year Built</th>\n",
       "      <th>Year Remod/Add</th>\n",
       "      <th>Mas Vnr Area</th>\n",
       "      <th>...</th>\n",
       "      <th>Misc Feature_Shed</th>\n",
       "      <th>Misc Feature_TenC</th>\n",
       "      <th>Sale Type_CWD</th>\n",
       "      <th>Sale Type_Con</th>\n",
       "      <th>Sale Type_ConLD</th>\n",
       "      <th>Sale Type_ConLI</th>\n",
       "      <th>Sale Type_ConLw</th>\n",
       "      <th>Sale Type_New</th>\n",
       "      <th>Sale Type_Oth</th>\n",
       "      <th>Sale Type_WD</th>\n",
       "    </tr>\n",
       "  </thead>\n",
       "  <tbody>\n",
       "    <tr>\n",
       "      <th>0</th>\n",
       "      <td>109</td>\n",
       "      <td>533352170</td>\n",
       "      <td>60</td>\n",
       "      <td>0.0</td>\n",
       "      <td>13517</td>\n",
       "      <td>6</td>\n",
       "      <td>8</td>\n",
       "      <td>1976</td>\n",
       "      <td>2005</td>\n",
       "      <td>289.0</td>\n",
       "      <td>...</td>\n",
       "      <td>0</td>\n",
       "      <td>0</td>\n",
       "      <td>0</td>\n",
       "      <td>0</td>\n",
       "      <td>0</td>\n",
       "      <td>0</td>\n",
       "      <td>0</td>\n",
       "      <td>0</td>\n",
       "      <td>0</td>\n",
       "      <td>1</td>\n",
       "    </tr>\n",
       "    <tr>\n",
       "      <th>1</th>\n",
       "      <td>544</td>\n",
       "      <td>531379050</td>\n",
       "      <td>60</td>\n",
       "      <td>43.0</td>\n",
       "      <td>11492</td>\n",
       "      <td>7</td>\n",
       "      <td>5</td>\n",
       "      <td>1996</td>\n",
       "      <td>1997</td>\n",
       "      <td>132.0</td>\n",
       "      <td>...</td>\n",
       "      <td>0</td>\n",
       "      <td>0</td>\n",
       "      <td>0</td>\n",
       "      <td>0</td>\n",
       "      <td>0</td>\n",
       "      <td>0</td>\n",
       "      <td>0</td>\n",
       "      <td>0</td>\n",
       "      <td>0</td>\n",
       "      <td>1</td>\n",
       "    </tr>\n",
       "    <tr>\n",
       "      <th>2</th>\n",
       "      <td>153</td>\n",
       "      <td>535304180</td>\n",
       "      <td>20</td>\n",
       "      <td>68.0</td>\n",
       "      <td>7922</td>\n",
       "      <td>5</td>\n",
       "      <td>7</td>\n",
       "      <td>1953</td>\n",
       "      <td>2007</td>\n",
       "      <td>0.0</td>\n",
       "      <td>...</td>\n",
       "      <td>0</td>\n",
       "      <td>0</td>\n",
       "      <td>0</td>\n",
       "      <td>0</td>\n",
       "      <td>0</td>\n",
       "      <td>0</td>\n",
       "      <td>0</td>\n",
       "      <td>0</td>\n",
       "      <td>0</td>\n",
       "      <td>1</td>\n",
       "    </tr>\n",
       "    <tr>\n",
       "      <th>3</th>\n",
       "      <td>318</td>\n",
       "      <td>916386060</td>\n",
       "      <td>60</td>\n",
       "      <td>73.0</td>\n",
       "      <td>9802</td>\n",
       "      <td>5</td>\n",
       "      <td>5</td>\n",
       "      <td>2006</td>\n",
       "      <td>2007</td>\n",
       "      <td>0.0</td>\n",
       "      <td>...</td>\n",
       "      <td>0</td>\n",
       "      <td>0</td>\n",
       "      <td>0</td>\n",
       "      <td>0</td>\n",
       "      <td>0</td>\n",
       "      <td>0</td>\n",
       "      <td>0</td>\n",
       "      <td>0</td>\n",
       "      <td>0</td>\n",
       "      <td>1</td>\n",
       "    </tr>\n",
       "    <tr>\n",
       "      <th>4</th>\n",
       "      <td>255</td>\n",
       "      <td>906425045</td>\n",
       "      <td>50</td>\n",
       "      <td>82.0</td>\n",
       "      <td>14235</td>\n",
       "      <td>6</td>\n",
       "      <td>8</td>\n",
       "      <td>1900</td>\n",
       "      <td>1993</td>\n",
       "      <td>0.0</td>\n",
       "      <td>...</td>\n",
       "      <td>0</td>\n",
       "      <td>0</td>\n",
       "      <td>0</td>\n",
       "      <td>0</td>\n",
       "      <td>0</td>\n",
       "      <td>0</td>\n",
       "      <td>0</td>\n",
       "      <td>0</td>\n",
       "      <td>0</td>\n",
       "      <td>1</td>\n",
       "    </tr>\n",
       "  </tbody>\n",
       "</table>\n",
       "<p>5 rows × 264 columns</p>\n",
       "</div>"
      ],
      "text/plain": [
       "    Id        PID  MS SubClass  Lot Frontage  Lot Area  Overall Qual  \\\n",
       "0  109  533352170           60           0.0     13517             6   \n",
       "1  544  531379050           60          43.0     11492             7   \n",
       "2  153  535304180           20          68.0      7922             5   \n",
       "3  318  916386060           60          73.0      9802             5   \n",
       "4  255  906425045           50          82.0     14235             6   \n",
       "\n",
       "   Overall Cond  Year Built  Year Remod/Add  Mas Vnr Area  ...  \\\n",
       "0             8        1976            2005         289.0  ...   \n",
       "1             5        1996            1997         132.0  ...   \n",
       "2             7        1953            2007           0.0  ...   \n",
       "3             5        2006            2007           0.0  ...   \n",
       "4             8        1900            1993           0.0  ...   \n",
       "\n",
       "   Misc Feature_Shed  Misc Feature_TenC  Sale Type_CWD  Sale Type_Con  \\\n",
       "0                  0                  0              0              0   \n",
       "1                  0                  0              0              0   \n",
       "2                  0                  0              0              0   \n",
       "3                  0                  0              0              0   \n",
       "4                  0                  0              0              0   \n",
       "\n",
       "   Sale Type_ConLD  Sale Type_ConLI  Sale Type_ConLw  Sale Type_New  \\\n",
       "0                0                0                0              0   \n",
       "1                0                0                0              0   \n",
       "2                0                0                0              0   \n",
       "3                0                0                0              0   \n",
       "4                0                0                0              0   \n",
       "\n",
       "   Sale Type_Oth  Sale Type_WD   \n",
       "0              0              1  \n",
       "1              0              1  \n",
       "2              0              1  \n",
       "3              0              1  \n",
       "4              0              1  \n",
       "\n",
       "[5 rows x 264 columns]"
      ]
     },
     "execution_count": 43,
     "metadata": {},
     "output_type": "execute_result"
    }
   ],
   "source": [
    "X.head()"
   ]
  },
  {
   "cell_type": "markdown",
   "metadata": {},
   "source": [
    "Applying get_dummies to both the training and the validation dataset resulted in files with different numbers of columns. This means that the category values are inconsistent between the two files. \n",
    "<br>\n",
    "I wanted quick way to identify which columns already matched, and which ones would need to be cleaned before I could add them to my model. I wrote the following function to compare them and create a dictionary with column names as the keys and boolean values to indicate whether or not they matched. If True, I can use the feature as is. If False, it needs to be cleaned.\n",
    "\n"
   ]
  },
  {
   "cell_type": "code",
   "execution_count": 44,
   "metadata": {},
   "outputs": [],
   "source": [
    "# #cSuggestd better way to do the below - from James Hampton\n",
    "# train_columns = set(train_df.columns)\n",
    "# test_columns = set(test_df.columns)\n",
    "# train_columns - test_columns"
   ]
  },
  {
   "cell_type": "code",
   "execution_count": 45,
   "metadata": {},
   "outputs": [],
   "source": [
    "#define a function that takes two data frames and a list of column names\n",
    "# and checks to see if the values of categorical items are the same in two files\n",
    "#Outputs a dictionary with each column name as the key \n",
    "#and a boolean value with True if they match, and false if they don't\n",
    "def cat_check(df1, df2, col_name_list):\n",
    "    col_match = {}\n",
    "    for name in col_name_list:\n",
    "        col_match[name] = sorted(  list(df1[name].unique())   ) == sorted(  list(df2[name].unique())   )\n",
    "        \n",
    "    return(col_match)\n",
    " \n"
   ]
  },
  {
   "cell_type": "code",
   "execution_count": 46,
   "metadata": {},
   "outputs": [
    {
     "data": {
      "text/plain": [
       "{'MS Zoning': False,\n",
       " 'Street': True,\n",
       " 'Alley': True,\n",
       " 'Lot Shape': True,\n",
       " 'Land Contour': True,\n",
       " 'Utilities': False,\n",
       " 'Lot Config': True,\n",
       " 'Land Slope': True,\n",
       " 'Neighborhood': False,\n",
       " 'Condition 1': True,\n",
       " 'Condition 2': False,\n",
       " 'Bldg Type': True,\n",
       " 'House Style': True,\n",
       " 'Roof Style': True,\n",
       " 'Roof Matl': False,\n",
       " 'Exterior 1st': False,\n",
       " 'Exterior 2nd': False,\n",
       " 'Mas Vnr Type': False,\n",
       " 'Exter Qual': True,\n",
       " 'Exter Cond': True,\n",
       " 'Foundation': True,\n",
       " 'Bsmt Qual': True,\n",
       " 'Bsmt Cond': False,\n",
       " 'Bsmt Exposure': True,\n",
       " 'BsmtFin Type 1': True,\n",
       " 'BsmtFin Type 2': True,\n",
       " 'Heating': False,\n",
       " 'Heating QC': False,\n",
       " 'Central Air': True,\n",
       " 'Electrical': False,\n",
       " 'Kitchen Qual': False,\n",
       " 'Functional': False,\n",
       " 'Fireplace Qu': True,\n",
       " 'Garage Type': True,\n",
       " 'Garage Finish': True,\n",
       " 'Garage Qual': False,\n",
       " 'Garage Cond': True,\n",
       " 'Paved Drive': True,\n",
       " 'Pool QC': False,\n",
       " 'Fence': True,\n",
       " 'Misc Feature': False,\n",
       " 'Sale Type': False}"
      ]
     },
     "execution_count": 46,
     "metadata": {},
     "output_type": "execute_result"
    }
   ],
   "source": [
    "##Display the object columns as a reminder\n",
    "cat_col_list = list(df.select_dtypes(include=['O']).columns)\n",
    "\n",
    "cat_val_dict = cat_check(df, dftest, cat_col_list)\n",
    "cat_val_dict\n",
    "\n"
   ]
  },
  {
   "cell_type": "markdown",
   "metadata": {},
   "source": [
    "***\n",
    "I see from the above there is a mismatch in the neighborhood column. Since this seems to be an important feature for testing whether location is really a good predictor of price, I need to explore this column and see what can be done to make it match in both files.  \n",
    "\n",
    "\n",
    "Visual inspection revealed that two values for neighborhood, 'GrnHill' and 'Landmrk', are present in the training file but not in the test file.  \n",
    "***"
   ]
  },
  {
   "cell_type": "code",
   "execution_count": 47,
   "metadata": {},
   "outputs": [],
   "source": [
    "mask = (df['Neighborhood'] ==  'GrnHill') |  (df['Neighborhood'] ==  'Landmrk')\n",
    "rows_to_drop = df[mask].index\n",
    "#James Hampton also helped me get this to work without hard-coding the indices."
   ]
  },
  {
   "cell_type": "markdown",
   "metadata": {},
   "source": [
    "There are only three rows with values that do not have a match in the test file. I could explore a map of Ames to see if it is worth imputing the values, but since there are only three records, it is not likely to be worth the effort. For now I will eliminate those rows."
   ]
  },
  {
   "cell_type": "code",
   "execution_count": 48,
   "metadata": {},
   "outputs": [
    {
     "data": {
      "text/plain": [
       "(2051, 81)"
      ]
     },
     "execution_count": 48,
     "metadata": {},
     "output_type": "execute_result"
    }
   ],
   "source": [
    "df.shape"
   ]
  },
  {
   "cell_type": "code",
   "execution_count": 49,
   "metadata": {},
   "outputs": [],
   "source": [
    "df = df.drop(rows_to_drop)"
   ]
  },
  {
   "cell_type": "code",
   "execution_count": 50,
   "metadata": {},
   "outputs": [
    {
     "data": {
      "text/plain": [
       "(2048, 81)"
      ]
     },
     "execution_count": 50,
     "metadata": {},
     "output_type": "execute_result"
    }
   ],
   "source": [
    "df.shape   "
   ]
  },
  {
   "cell_type": "markdown",
   "metadata": {},
   "source": [
    "Having fixed the neighborhood, I decided to select several other features that would not need to cleaned so I could proceed with modeling.\n",
    "\n",
    "<br>\n",
    "The features I chose were|\n",
    "-  Neighborhood\n",
    "-  BsmtFin Type 1 \n",
    "-  Condition 1 \n",
    "-  Bldg Type \n",
    "-  House Style \n",
    "-  Garage Cond\n",
    "-  Paved Drive\n",
    "\n",
    "\n",
    "Below I have defined a function that takes a dataframe and a list of categorical columns and returns an X dataframe of numeric features, concatonated with a one-hot encoded version of each of the categorical features passed in. The above checks make it easy to identify which columns can be successfully encoded and which ones will need to be cleaned before they can be added to the model. \n"
   ]
  },
  {
   "cell_type": "code",
   "execution_count": 51,
   "metadata": {},
   "outputs": [],
   "source": [
    "#Set features for first pass based on all numeric columns\n",
    "feature_list_to_explore = ['Neighborhood', 'BsmtFin Type 1', 'Condition 1', 'Bldg Type', 'House Style', 'Garage Cond', 'Paved Drive']\n"
   ]
  },
  {
   "cell_type": "code",
   "execution_count": 52,
   "metadata": {},
   "outputs": [],
   "source": [
    "def set_features_num_plus_cat(df, cat_features, final=False):\n",
    "    num_features = [col for col in df._get_numeric_data().columns if col !='SalePrice']    \n",
    "    #one-hot encode the categorical features\n",
    "    #future: use pythonic methods\n",
    "    \n",
    "    #subset the input dataframe\n",
    "    temp_data_frame = df[cat_features]\n",
    "       \n",
    "    #one-hot encode it to a temp called cat_coded_features\n",
    "    cat_coded_features = pd.get_dummies(temp_data_frame, drop_first=True)\n",
    "    \n",
    "    #subset the num features\n",
    "    numdf = df[num_features]\n",
    "    \n",
    "    #put them together\n",
    "    X = pd.concat([numdf,cat_coded_features], axis = 1)\n",
    "    \n",
    "    #Exclude'Id' or 'PID' columns, not numeric in nature for the train set    \n",
    "    if not final:\n",
    "        X = X.drop(columns=['Id','PID'])\n",
    "        \n",
    "    return(X)\n",
    "    "
   ]
  },
  {
   "cell_type": "code",
   "execution_count": 53,
   "metadata": {},
   "outputs": [],
   "source": [
    "##Create a new X with the new features\n",
    "X = set_features_num_plus_cat(df, feature_list_to_explore)\n",
    "y = df['SalePrice']"
   ]
  },
  {
   "cell_type": "markdown",
   "metadata": {},
   "source": [
    "Look at the first few rows to see that it is as expected."
   ]
  },
  {
   "cell_type": "code",
   "execution_count": 54,
   "metadata": {},
   "outputs": [
    {
     "data": {
      "text/html": [
       "<div>\n",
       "<style scoped>\n",
       "    .dataframe tbody tr th:only-of-type {\n",
       "        vertical-align: middle;\n",
       "    }\n",
       "\n",
       "    .dataframe tbody tr th {\n",
       "        vertical-align: top;\n",
       "    }\n",
       "\n",
       "    .dataframe thead th {\n",
       "        text-align: right;\n",
       "    }\n",
       "</style>\n",
       "<table border=\"1\" class=\"dataframe\">\n",
       "  <thead>\n",
       "    <tr style=\"text-align: right;\">\n",
       "      <th></th>\n",
       "      <th>MS SubClass</th>\n",
       "      <th>Lot Frontage</th>\n",
       "      <th>Lot Area</th>\n",
       "      <th>Overall Qual</th>\n",
       "      <th>Overall Cond</th>\n",
       "      <th>Year Built</th>\n",
       "      <th>Year Remod/Add</th>\n",
       "      <th>Mas Vnr Area</th>\n",
       "      <th>BsmtFin SF 1</th>\n",
       "      <th>BsmtFin SF 2</th>\n",
       "      <th>...</th>\n",
       "      <th>House Style_2Story</th>\n",
       "      <th>House Style_SFoyer</th>\n",
       "      <th>House Style_SLvl</th>\n",
       "      <th>Garage Cond_Fa</th>\n",
       "      <th>Garage Cond_Gd</th>\n",
       "      <th>Garage Cond_NA</th>\n",
       "      <th>Garage Cond_Po</th>\n",
       "      <th>Garage Cond_TA</th>\n",
       "      <th>Paved Drive_P</th>\n",
       "      <th>Paved Drive_Y</th>\n",
       "    </tr>\n",
       "  </thead>\n",
       "  <tbody>\n",
       "    <tr>\n",
       "      <th>0</th>\n",
       "      <td>60</td>\n",
       "      <td>0.0</td>\n",
       "      <td>13517</td>\n",
       "      <td>6</td>\n",
       "      <td>8</td>\n",
       "      <td>1976</td>\n",
       "      <td>2005</td>\n",
       "      <td>289.0</td>\n",
       "      <td>533.0</td>\n",
       "      <td>0.0</td>\n",
       "      <td>...</td>\n",
       "      <td>1</td>\n",
       "      <td>0</td>\n",
       "      <td>0</td>\n",
       "      <td>0</td>\n",
       "      <td>0</td>\n",
       "      <td>0</td>\n",
       "      <td>0</td>\n",
       "      <td>1</td>\n",
       "      <td>0</td>\n",
       "      <td>1</td>\n",
       "    </tr>\n",
       "    <tr>\n",
       "      <th>1</th>\n",
       "      <td>60</td>\n",
       "      <td>43.0</td>\n",
       "      <td>11492</td>\n",
       "      <td>7</td>\n",
       "      <td>5</td>\n",
       "      <td>1996</td>\n",
       "      <td>1997</td>\n",
       "      <td>132.0</td>\n",
       "      <td>637.0</td>\n",
       "      <td>0.0</td>\n",
       "      <td>...</td>\n",
       "      <td>1</td>\n",
       "      <td>0</td>\n",
       "      <td>0</td>\n",
       "      <td>0</td>\n",
       "      <td>0</td>\n",
       "      <td>0</td>\n",
       "      <td>0</td>\n",
       "      <td>1</td>\n",
       "      <td>0</td>\n",
       "      <td>1</td>\n",
       "    </tr>\n",
       "    <tr>\n",
       "      <th>2</th>\n",
       "      <td>20</td>\n",
       "      <td>68.0</td>\n",
       "      <td>7922</td>\n",
       "      <td>5</td>\n",
       "      <td>7</td>\n",
       "      <td>1953</td>\n",
       "      <td>2007</td>\n",
       "      <td>0.0</td>\n",
       "      <td>731.0</td>\n",
       "      <td>0.0</td>\n",
       "      <td>...</td>\n",
       "      <td>0</td>\n",
       "      <td>0</td>\n",
       "      <td>0</td>\n",
       "      <td>0</td>\n",
       "      <td>0</td>\n",
       "      <td>0</td>\n",
       "      <td>0</td>\n",
       "      <td>1</td>\n",
       "      <td>0</td>\n",
       "      <td>1</td>\n",
       "    </tr>\n",
       "    <tr>\n",
       "      <th>3</th>\n",
       "      <td>60</td>\n",
       "      <td>73.0</td>\n",
       "      <td>9802</td>\n",
       "      <td>5</td>\n",
       "      <td>5</td>\n",
       "      <td>2006</td>\n",
       "      <td>2007</td>\n",
       "      <td>0.0</td>\n",
       "      <td>0.0</td>\n",
       "      <td>0.0</td>\n",
       "      <td>...</td>\n",
       "      <td>1</td>\n",
       "      <td>0</td>\n",
       "      <td>0</td>\n",
       "      <td>0</td>\n",
       "      <td>0</td>\n",
       "      <td>0</td>\n",
       "      <td>0</td>\n",
       "      <td>1</td>\n",
       "      <td>0</td>\n",
       "      <td>1</td>\n",
       "    </tr>\n",
       "    <tr>\n",
       "      <th>4</th>\n",
       "      <td>50</td>\n",
       "      <td>82.0</td>\n",
       "      <td>14235</td>\n",
       "      <td>6</td>\n",
       "      <td>8</td>\n",
       "      <td>1900</td>\n",
       "      <td>1993</td>\n",
       "      <td>0.0</td>\n",
       "      <td>0.0</td>\n",
       "      <td>0.0</td>\n",
       "      <td>...</td>\n",
       "      <td>0</td>\n",
       "      <td>0</td>\n",
       "      <td>0</td>\n",
       "      <td>0</td>\n",
       "      <td>0</td>\n",
       "      <td>0</td>\n",
       "      <td>0</td>\n",
       "      <td>1</td>\n",
       "      <td>0</td>\n",
       "      <td>0</td>\n",
       "    </tr>\n",
       "  </tbody>\n",
       "</table>\n",
       "<p>5 rows × 93 columns</p>\n",
       "</div>"
      ],
      "text/plain": [
       "   MS SubClass  Lot Frontage  Lot Area  Overall Qual  Overall Cond  \\\n",
       "0           60           0.0     13517             6             8   \n",
       "1           60          43.0     11492             7             5   \n",
       "2           20          68.0      7922             5             7   \n",
       "3           60          73.0      9802             5             5   \n",
       "4           50          82.0     14235             6             8   \n",
       "\n",
       "   Year Built  Year Remod/Add  Mas Vnr Area  BsmtFin SF 1  BsmtFin SF 2  ...  \\\n",
       "0        1976            2005         289.0         533.0           0.0  ...   \n",
       "1        1996            1997         132.0         637.0           0.0  ...   \n",
       "2        1953            2007           0.0         731.0           0.0  ...   \n",
       "3        2006            2007           0.0           0.0           0.0  ...   \n",
       "4        1900            1993           0.0           0.0           0.0  ...   \n",
       "\n",
       "   House Style_2Story  House Style_SFoyer  House Style_SLvl  Garage Cond_Fa  \\\n",
       "0                   1                   0                 0               0   \n",
       "1                   1                   0                 0               0   \n",
       "2                   0                   0                 0               0   \n",
       "3                   1                   0                 0               0   \n",
       "4                   0                   0                 0               0   \n",
       "\n",
       "   Garage Cond_Gd  Garage Cond_NA  Garage Cond_Po  Garage Cond_TA  \\\n",
       "0               0               0               0               1   \n",
       "1               0               0               0               1   \n",
       "2               0               0               0               1   \n",
       "3               0               0               0               1   \n",
       "4               0               0               0               1   \n",
       "\n",
       "   Paved Drive_P  Paved Drive_Y  \n",
       "0              0              1  \n",
       "1              0              1  \n",
       "2              0              1  \n",
       "3              0              1  \n",
       "4              0              0  \n",
       "\n",
       "[5 rows x 93 columns]"
      ]
     },
     "execution_count": 54,
     "metadata": {},
     "output_type": "execute_result"
    }
   ],
   "source": [
    "X.head()"
   ]
  },
  {
   "cell_type": "code",
   "execution_count": 55,
   "metadata": {},
   "outputs": [
    {
     "data": {
      "text/plain": [
       "(2048, 93)"
      ]
     },
     "execution_count": 55,
     "metadata": {},
     "output_type": "execute_result"
    }
   ],
   "source": [
    "X.shape"
   ]
  },
  {
   "cell_type": "markdown",
   "metadata": {},
   "source": [
    "The new dataset has 93 columns. Display the list to see the new names."
   ]
  },
  {
   "cell_type": "code",
   "execution_count": 56,
   "metadata": {},
   "outputs": [
    {
     "data": {
      "text/plain": [
       "Index(['MS SubClass', 'Lot Frontage', 'Lot Area', 'Overall Qual',\n",
       "       'Overall Cond', 'Year Built', 'Year Remod/Add', 'Mas Vnr Area',\n",
       "       'BsmtFin SF 1', 'BsmtFin SF 2', 'Bsmt Unf SF', 'Total Bsmt SF',\n",
       "       '1st Flr SF', '2nd Flr SF', 'Low Qual Fin SF', 'Gr Liv Area',\n",
       "       'Bsmt Full Bath', 'Bsmt Half Bath', 'Full Bath', 'Half Bath',\n",
       "       'Bedroom AbvGr', 'Kitchen AbvGr', 'TotRms AbvGrd', 'Fireplaces',\n",
       "       'Garage Yr Blt', 'Garage Cars', 'Garage Area', 'Wood Deck SF',\n",
       "       'Open Porch SF', 'Enclosed Porch', '3Ssn Porch', 'Screen Porch',\n",
       "       'Pool Area', 'Misc Val', 'Mo Sold', 'Yr Sold', 'Neighborhood_Blueste',\n",
       "       'Neighborhood_BrDale', 'Neighborhood_BrkSide', 'Neighborhood_ClearCr',\n",
       "       'Neighborhood_CollgCr', 'Neighborhood_Crawfor', 'Neighborhood_Edwards',\n",
       "       'Neighborhood_Gilbert', 'Neighborhood_Greens', 'Neighborhood_IDOTRR',\n",
       "       'Neighborhood_MeadowV', 'Neighborhood_Mitchel', 'Neighborhood_NAmes',\n",
       "       'Neighborhood_NPkVill', 'Neighborhood_NWAmes', 'Neighborhood_NoRidge',\n",
       "       'Neighborhood_NridgHt', 'Neighborhood_OldTown', 'Neighborhood_SWISU',\n",
       "       'Neighborhood_Sawyer', 'Neighborhood_SawyerW', 'Neighborhood_Somerst',\n",
       "       'Neighborhood_StoneBr', 'Neighborhood_Timber', 'Neighborhood_Veenker',\n",
       "       'BsmtFin Type 1_BLQ', 'BsmtFin Type 1_GLQ', 'BsmtFin Type 1_LwQ',\n",
       "       'BsmtFin Type 1_NA', 'BsmtFin Type 1_Rec', 'BsmtFin Type 1_Unf',\n",
       "       'Condition 1_Feedr', 'Condition 1_Norm', 'Condition 1_PosA',\n",
       "       'Condition 1_PosN', 'Condition 1_RRAe', 'Condition 1_RRAn',\n",
       "       'Condition 1_RRNe', 'Condition 1_RRNn', 'Bldg Type_2fmCon',\n",
       "       'Bldg Type_Duplex', 'Bldg Type_Twnhs', 'Bldg Type_TwnhsE',\n",
       "       'House Style_1.5Unf', 'House Style_1Story', 'House Style_2.5Fin',\n",
       "       'House Style_2.5Unf', 'House Style_2Story', 'House Style_SFoyer',\n",
       "       'House Style_SLvl', 'Garage Cond_Fa', 'Garage Cond_Gd',\n",
       "       'Garage Cond_NA', 'Garage Cond_Po', 'Garage Cond_TA', 'Paved Drive_P',\n",
       "       'Paved Drive_Y'],\n",
       "      dtype='object')"
      ]
     },
     "execution_count": 56,
     "metadata": {},
     "output_type": "execute_result"
    }
   ],
   "source": [
    "X.columns\n"
   ]
  },
  {
   "cell_type": "markdown",
   "metadata": {},
   "source": [
    "***\n",
    "X and y now look good. Now transform the test data\n",
    "***"
   ]
  },
  {
   "cell_type": "code",
   "execution_count": 57,
   "metadata": {},
   "outputs": [],
   "source": [
    "#Transforem the validation data. The dimensions will need to match when we test the model.\n",
    "X_transformed = set_features_num_plus_cat(dftest, feature_list_to_explore, final=True)\n",
    "   "
   ]
  },
  {
   "cell_type": "code",
   "execution_count": 58,
   "metadata": {},
   "outputs": [
    {
     "data": {
      "text/plain": [
       "(879, 95)"
      ]
     },
     "execution_count": 58,
     "metadata": {},
     "output_type": "execute_result"
    }
   ],
   "source": [
    "X_transformed.shape"
   ]
  },
  {
   "cell_type": "markdown",
   "metadata": {},
   "source": [
    "The test file still contains the Id columns, so it is the expeted that it has two more columns than the training data at this point. I will remove them before modeling, but want to but want to preserve them in the saved file."
   ]
  },
  {
   "cell_type": "code",
   "execution_count": 59,
   "metadata": {},
   "outputs": [
    {
     "data": {
      "text/plain": [
       "(2048, 93)"
      ]
     },
     "execution_count": 59,
     "metadata": {},
     "output_type": "execute_result"
    }
   ],
   "source": [
    "X.shape"
   ]
  },
  {
   "cell_type": "markdown",
   "metadata": {},
   "source": [
    "<a id=\"section__Save_Cleaned_Data\"></a>\n",
    "\n",
    "## Save Cleaned Data\n",
    "Saving tansformed data so it can be read it into another notbook for additional modeling,\n",
    "\n",
    "\n",
    "[back to top](#section__top)\n"
   ]
  },
  {
   "cell_type": "code",
   "execution_count": 60,
   "metadata": {},
   "outputs": [],
   "source": [
    "#save transformed validation data\n",
    "X_transformed.to_csv('../data/validation_file.csv', index=False)"
   ]
  },
  {
   "cell_type": "code",
   "execution_count": 61,
   "metadata": {},
   "outputs": [],
   "source": [
    "newtraindf = pd.concat([X,y], axis = 1)  #put these back together for saving to preserve order"
   ]
  },
  {
   "cell_type": "code",
   "execution_count": 62,
   "metadata": {},
   "outputs": [
    {
     "data": {
      "text/plain": [
       "(2048, 94)"
      ]
     },
     "execution_count": 62,
     "metadata": {},
     "output_type": "execute_result"
    }
   ],
   "source": [
    "newtraindf.shape\n"
   ]
  },
  {
   "cell_type": "code",
   "execution_count": 63,
   "metadata": {},
   "outputs": [],
   "source": [
    "#save clean trained data\n",
    "newtraindf.to_csv('../data/train_cleaned.csv', index=False)"
   ]
  },
  {
   "cell_type": "markdown",
   "metadata": {},
   "source": [
    "<a id=\"section__Second_Model\"></a>\n",
    "### Second Linear Regression Model\n",
    "Construct another linear regression model with these additional features, and compare it with the baseline\n",
    "\n",
    "\n",
    "[back to top](#section__top)\n"
   ]
  },
  {
   "cell_type": "code",
   "execution_count": 64,
   "metadata": {},
   "outputs": [
    {
     "data": {
      "text/plain": [
       "((2048, 93), (2048,), (879, 95))"
      ]
     },
     "execution_count": 64,
     "metadata": {},
     "output_type": "execute_result"
    }
   ],
   "source": [
    "X.shape, y.shape, X_transformed.shape"
   ]
  },
  {
   "cell_type": "code",
   "execution_count": 65,
   "metadata": {},
   "outputs": [],
   "source": [
    "X_transformed = X_transformed.drop(columns=['Id','PID'])\n",
    "# Create train/test splits.\n",
    "X_train, X_test, y_train, y_test = train_test_split(X,y, \n",
    "                                test_size=0.5, random_state=42) "
   ]
  },
  {
   "cell_type": "code",
   "execution_count": 66,
   "metadata": {},
   "outputs": [
    {
     "data": {
      "text/plain": [
       "((2048, 93), (2048,), (879, 93))"
      ]
     },
     "execution_count": 66,
     "metadata": {},
     "output_type": "execute_result"
    }
   ],
   "source": [
    "X.shape, y.shape, X_transformed.shape"
   ]
  },
  {
   "cell_type": "code",
   "execution_count": 67,
   "metadata": {},
   "outputs": [],
   "source": [
    "# Create train/test splits.\n",
    "X_train, X_test, y_train, y_test = train_test_split(X,y, \n",
    "                                test_size=0.5, random_state=42)\n",
    "\n",
    "# Note: this performed better on unscaled data\n",
    "#Standardize the data so all features can be evaluated on the same scale.\n",
    "# ss = StandardScaler()\n",
    "# X_scaled = ss.fit_transform(X_train)\n",
    "\n",
    "\n",
    "#Look at top rows of the scaled values to make sure they have been normalized\n",
    "#X_scaled[:,:5]"
   ]
  },
  {
   "cell_type": "code",
   "execution_count": 68,
   "metadata": {},
   "outputs": [
    {
     "name": "stdout",
     "output_type": "stream",
     "text": [
      "R2 Score for Train Split 0.8829447013155689\n",
      "R2 Score for Test Split 0.8413747523987042\n"
     ]
    }
   ],
   "source": [
    "#Peform the regression on the training split\n",
    "mlr, beta0, beta1, r2score = try_mlr(X_train,y_train)\n",
    "# print('mlr returns r2 score of {}'.format(r2score))\n",
    "# print('mlr returns beta0 intercept {}'.format(beta0))\n",
    "# print('mlr returns beta1 coefficients {}'.format(beta1))\n",
    "\n",
    "##Score on the test split\n",
    "print('R2 Score for Train Split {}'.format( mlr.score(X_train, y_train) ))\n",
    "print('R2 Score for Test Split {}'.format( mlr.score(X_test, y_test) ))"
   ]
  },
  {
   "cell_type": "markdown",
   "metadata": {},
   "source": [
    "Examine the coefficients of this model to see what features are contribute the most predictive value."
   ]
  },
  {
   "cell_type": "code",
   "execution_count": 69,
   "metadata": {},
   "outputs": [
    {
     "data": {
      "text/html": [
       "<div>\n",
       "<style scoped>\n",
       "    .dataframe tbody tr th:only-of-type {\n",
       "        vertical-align: middle;\n",
       "    }\n",
       "\n",
       "    .dataframe tbody tr th {\n",
       "        vertical-align: top;\n",
       "    }\n",
       "\n",
       "    .dataframe thead th {\n",
       "        text-align: right;\n",
       "    }\n",
       "</style>\n",
       "<table border=\"1\" class=\"dataframe\">\n",
       "  <thead>\n",
       "    <tr style=\"text-align: right;\">\n",
       "      <th></th>\n",
       "      <th>coefficients</th>\n",
       "      <th>abs_coef</th>\n",
       "    </tr>\n",
       "  </thead>\n",
       "  <tbody>\n",
       "    <tr>\n",
       "      <th>Garage Cond_NA</th>\n",
       "      <td>128221.235330</td>\n",
       "      <td>128221.235330</td>\n",
       "    </tr>\n",
       "    <tr>\n",
       "      <th>Neighborhood_StoneBr</th>\n",
       "      <td>93914.591311</td>\n",
       "      <td>93914.591311</td>\n",
       "    </tr>\n",
       "    <tr>\n",
       "      <th>Neighborhood_NridgHt</th>\n",
       "      <td>57138.275914</td>\n",
       "      <td>57138.275914</td>\n",
       "    </tr>\n",
       "    <tr>\n",
       "      <th>House Style_2.5Unf</th>\n",
       "      <td>27065.247455</td>\n",
       "      <td>27065.247455</td>\n",
       "    </tr>\n",
       "    <tr>\n",
       "      <th>House Style_2.5Fin</th>\n",
       "      <td>-27009.253608</td>\n",
       "      <td>27009.253608</td>\n",
       "    </tr>\n",
       "  </tbody>\n",
       "</table>\n",
       "</div>"
      ],
      "text/plain": [
       "                       coefficients       abs_coef\n",
       "Garage Cond_NA        128221.235330  128221.235330\n",
       "Neighborhood_StoneBr   93914.591311   93914.591311\n",
       "Neighborhood_NridgHt   57138.275914   57138.275914\n",
       "House Style_2.5Unf     27065.247455   27065.247455\n",
       "House Style_2.5Fin    -27009.253608   27009.253608"
      ]
     },
     "execution_count": 69,
     "metadata": {},
     "output_type": "execute_result"
    }
   ],
   "source": [
    "\n",
    "coef_df = pd.DataFrame(mlr.coef_, index=X.columns, columns=['coefficients'])\n",
    "coef_df\n",
    "\n",
    "coef_df['abs_coef'] = coef_df['coefficients'].abs()\n",
    "coef_df\n",
    "\n",
    "coef_df.sort_values(by='abs_coef', ascending=False, inplace=True)\n",
    "coef_df.head()\n"
   ]
  },
  {
   "cell_type": "markdown",
   "metadata": {},
   "source": [
    "Though the r2 scores for this model are better, the beta0 intercept(-1275988.2256373537) and beta1 coefficients seem extreme. \n",
    "```\n",
    "R2 Score for Train Split 0.8829447013155689\n",
    "R2 Score for Test Split 0.8413747523987042\n",
    "```\n",
    "They also don't seem very explanative. It is hard to believe that having no garage is the stronges predictor. "
   ]
  },
  {
   "cell_type": "code",
   "execution_count": 70,
   "metadata": {},
   "outputs": [
    {
     "data": {
      "text/plain": [
       "((2048, 93), (2048,), (879, 93))"
      ]
     },
     "execution_count": 70,
     "metadata": {},
     "output_type": "execute_result"
    }
   ],
   "source": [
    "X.shape, y.shape, X_transformed.shape"
   ]
  },
  {
   "cell_type": "code",
   "execution_count": 71,
   "metadata": {},
   "outputs": [],
   "source": [
    "kaggle_preds = mlr.predict(X_transformed)"
   ]
  },
  {
   "cell_type": "code",
   "execution_count": 72,
   "metadata": {},
   "outputs": [
    {
     "data": {
      "text/html": [
       "<div>\n",
       "<style scoped>\n",
       "    .dataframe tbody tr th:only-of-type {\n",
       "        vertical-align: middle;\n",
       "    }\n",
       "\n",
       "    .dataframe tbody tr th {\n",
       "        vertical-align: top;\n",
       "    }\n",
       "\n",
       "    .dataframe thead th {\n",
       "        text-align: right;\n",
       "    }\n",
       "</style>\n",
       "<table border=\"1\" class=\"dataframe\">\n",
       "  <thead>\n",
       "    <tr style=\"text-align: right;\">\n",
       "      <th></th>\n",
       "      <th>Id</th>\n",
       "      <th>SalePrice</th>\n",
       "    </tr>\n",
       "  </thead>\n",
       "  <tbody>\n",
       "    <tr>\n",
       "      <th>0</th>\n",
       "      <td>2658</td>\n",
       "      <td>132966.472174</td>\n",
       "    </tr>\n",
       "    <tr>\n",
       "      <th>1</th>\n",
       "      <td>2718</td>\n",
       "      <td>144812.379180</td>\n",
       "    </tr>\n",
       "    <tr>\n",
       "      <th>2</th>\n",
       "      <td>2414</td>\n",
       "      <td>201167.781832</td>\n",
       "    </tr>\n",
       "    <tr>\n",
       "      <th>3</th>\n",
       "      <td>1989</td>\n",
       "      <td>105368.387429</td>\n",
       "    </tr>\n",
       "    <tr>\n",
       "      <th>4</th>\n",
       "      <td>625</td>\n",
       "      <td>201929.766307</td>\n",
       "    </tr>\n",
       "  </tbody>\n",
       "</table>\n",
       "</div>"
      ],
      "text/plain": [
       "     Id      SalePrice\n",
       "0  2658  132966.472174\n",
       "1  2718  144812.379180\n",
       "2  2414  201167.781832\n",
       "3  1989  105368.387429\n",
       "4   625  201929.766307"
      ]
     },
     "execution_count": 72,
     "metadata": {},
     "output_type": "execute_result"
    }
   ],
   "source": [
    "test_ids = pd.DataFrame(dftest.iloc[:,0])\n",
    "preds = pd.DataFrame(kaggle_preds)\n",
    "\n",
    "newdf = pd.concat([test_ids, preds], axis = 1)\n",
    "newdf.rename(columns={0: 'SalePrice'}, inplace=True)\n",
    "newdf.head()"
   ]
  },
  {
   "cell_type": "code",
   "execution_count": 73,
   "metadata": {},
   "outputs": [],
   "source": [
    "#save file to upload\n",
    "newdf.to_csv('../data/pred3.csv', index=False)"
   ]
  },
  {
   "cell_type": "code",
   "execution_count": 74,
   "metadata": {},
   "outputs": [],
   "source": [
    "mlr_model_numcatfeat_pkl = open ('../models/lr_numcatfeat.csv', 'wb')\n",
    "pickle.dump(mlr, mlr_model_numcatfeat_pkl)\n",
    "mlr_model_numcatfeat_pkl.close()"
   ]
  },
  {
   "cell_type": "markdown",
   "metadata": {},
   "source": [
    "<br>\n",
    "I was able to beat my previous! Let's take a look closer look at the model values.\n",
    "\n",
    "<br>\n",
    "\n",
    "Do the assumptions of MLR hold? As a reminder, they are:\n",
    "\n",
    "-  1. Linearity: 𝑌 must have an approximately linear relationship with each independent 𝑋𝑘.\n",
    "-  2. Independence of Errors: Errors (residuals) 𝜀𝑖 and 𝜀𝑗 must be independent of one another for any 𝑖≠𝑗.\n",
    "-  3. Normality: The errors (residuals) follow a Normal distribution with mean 0.\n",
    "-  4. Equality of Variances: The errors (residuals) should have a roughly consistent pattern, regardless of the value of the 𝑋𝑘 predictors. (There should be no discernable relationship between the 𝑋 predictors and the residuals.)\n",
    "-  5. Independence of Predictors: The independent variables 𝑋𝑘 and 𝑋𝑙 must be independent of one another for any 𝑘≠𝑙.\n",
    "The mnemonic LINEI is a useful way to remember these five assumptions.\n",
    "******"
   ]
  },
  {
   "cell_type": "markdown",
   "metadata": {},
   "source": [
    "### Next steps... \n",
    "\n",
    "With the data cleaned and saved, we can go on to try some other modeling techniqes. See notebook 2. Modeling_and_results."
   ]
  }
 ],
 "metadata": {
  "kernelspec": {
   "display_name": "Python [conda env:root]",
   "language": "python",
   "name": "conda-root-py"
  },
  "language_info": {
   "codemirror_mode": {
    "name": "ipython",
    "version": 3
   },
   "file_extension": ".py",
   "mimetype": "text/x-python",
   "name": "python",
   "nbconvert_exporter": "python",
   "pygments_lexer": "ipython3",
   "version": "3.6.8"
  }
 },
 "nbformat": 4,
 "nbformat_minor": 2
}
